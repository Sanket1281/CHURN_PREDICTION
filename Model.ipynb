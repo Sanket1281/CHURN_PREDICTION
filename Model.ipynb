{
 "cells": [
  {
   "metadata": {
    "ExecuteTime": {
     "end_time": "2025-08-31T09:27:42.969595Z",
     "start_time": "2025-08-31T09:27:42.955410Z"
    }
   },
   "cell_type": "code",
   "source": [
    "import torch\n",
    "from torch import nn\n",
    "import numpy as np\n",
    "import pandas as pd\n",
    "import matplotlib.pyplot as plt\n",
    "from ultralytics.utils.checks import collect_system_info"
   ],
   "id": "initial_id",
   "outputs": [],
   "execution_count": 2
  },
  {
   "metadata": {
    "ExecuteTime": {
     "end_time": "2025-08-31T09:27:43.124326Z",
     "start_time": "2025-08-31T09:27:43.078036Z"
    }
   },
   "cell_type": "code",
   "source": [
    "device = \"cuda\" if torch.cuda.is_available() else \"cpu\"\n",
    "device"
   ],
   "id": "db16137f52ed500d",
   "outputs": [
    {
     "data": {
      "text/plain": [
       "'cuda'"
      ]
     },
     "execution_count": 3,
     "metadata": {},
     "output_type": "execute_result"
    }
   ],
   "execution_count": 3
  },
  {
   "metadata": {
    "ExecuteTime": {
     "end_time": "2025-08-31T09:27:43.430812Z",
     "start_time": "2025-08-31T09:27:43.352231Z"
    }
   },
   "cell_type": "code",
   "source": [
    "df = pd.read_csv('D:/Codes/Pycharm Projects/PYTORCH/PROJECTS/DATA/Churn data/archive/WA_Fn-UseC_-Telco-Customer-Churn.csv')\n",
    "df"
   ],
   "id": "be192b8a7534b78b",
   "outputs": [
    {
     "data": {
      "text/plain": [
       "      customerID  gender  SeniorCitizen Partner Dependents  tenure  \\\n",
       "0     7590-VHVEG  Female              0     Yes         No       1   \n",
       "1     5575-GNVDE    Male              0      No         No      34   \n",
       "2     3668-QPYBK    Male              0      No         No       2   \n",
       "3     7795-CFOCW    Male              0      No         No      45   \n",
       "4     9237-HQITU  Female              0      No         No       2   \n",
       "...          ...     ...            ...     ...        ...     ...   \n",
       "7038  6840-RESVB    Male              0     Yes        Yes      24   \n",
       "7039  2234-XADUH  Female              0     Yes        Yes      72   \n",
       "7040  4801-JZAZL  Female              0     Yes        Yes      11   \n",
       "7041  8361-LTMKD    Male              1     Yes         No       4   \n",
       "7042  3186-AJIEK    Male              0      No         No      66   \n",
       "\n",
       "     PhoneService     MultipleLines InternetService OnlineSecurity  ...  \\\n",
       "0              No  No phone service             DSL             No  ...   \n",
       "1             Yes                No             DSL            Yes  ...   \n",
       "2             Yes                No             DSL            Yes  ...   \n",
       "3              No  No phone service             DSL            Yes  ...   \n",
       "4             Yes                No     Fiber optic             No  ...   \n",
       "...           ...               ...             ...            ...  ...   \n",
       "7038          Yes               Yes             DSL            Yes  ...   \n",
       "7039          Yes               Yes     Fiber optic             No  ...   \n",
       "7040           No  No phone service             DSL            Yes  ...   \n",
       "7041          Yes               Yes     Fiber optic             No  ...   \n",
       "7042          Yes                No     Fiber optic            Yes  ...   \n",
       "\n",
       "     DeviceProtection TechSupport StreamingTV StreamingMovies        Contract  \\\n",
       "0                  No          No          No              No  Month-to-month   \n",
       "1                 Yes          No          No              No        One year   \n",
       "2                  No          No          No              No  Month-to-month   \n",
       "3                 Yes         Yes          No              No        One year   \n",
       "4                  No          No          No              No  Month-to-month   \n",
       "...               ...         ...         ...             ...             ...   \n",
       "7038              Yes         Yes         Yes             Yes        One year   \n",
       "7039              Yes          No         Yes             Yes        One year   \n",
       "7040               No          No          No              No  Month-to-month   \n",
       "7041               No          No          No              No  Month-to-month   \n",
       "7042              Yes         Yes         Yes             Yes        Two year   \n",
       "\n",
       "     PaperlessBilling              PaymentMethod MonthlyCharges  TotalCharges  \\\n",
       "0                 Yes           Electronic check          29.85         29.85   \n",
       "1                  No               Mailed check          56.95        1889.5   \n",
       "2                 Yes               Mailed check          53.85        108.15   \n",
       "3                  No  Bank transfer (automatic)          42.30       1840.75   \n",
       "4                 Yes           Electronic check          70.70        151.65   \n",
       "...               ...                        ...            ...           ...   \n",
       "7038              Yes               Mailed check          84.80        1990.5   \n",
       "7039              Yes    Credit card (automatic)         103.20        7362.9   \n",
       "7040              Yes           Electronic check          29.60        346.45   \n",
       "7041              Yes               Mailed check          74.40         306.6   \n",
       "7042              Yes  Bank transfer (automatic)         105.65        6844.5   \n",
       "\n",
       "     Churn  \n",
       "0       No  \n",
       "1       No  \n",
       "2      Yes  \n",
       "3       No  \n",
       "4      Yes  \n",
       "...    ...  \n",
       "7038    No  \n",
       "7039    No  \n",
       "7040    No  \n",
       "7041   Yes  \n",
       "7042    No  \n",
       "\n",
       "[7043 rows x 21 columns]"
      ],
      "text/html": [
       "<div>\n",
       "<style scoped>\n",
       "    .dataframe tbody tr th:only-of-type {\n",
       "        vertical-align: middle;\n",
       "    }\n",
       "\n",
       "    .dataframe tbody tr th {\n",
       "        vertical-align: top;\n",
       "    }\n",
       "\n",
       "    .dataframe thead th {\n",
       "        text-align: right;\n",
       "    }\n",
       "</style>\n",
       "<table border=\"1\" class=\"dataframe\">\n",
       "  <thead>\n",
       "    <tr style=\"text-align: right;\">\n",
       "      <th></th>\n",
       "      <th>customerID</th>\n",
       "      <th>gender</th>\n",
       "      <th>SeniorCitizen</th>\n",
       "      <th>Partner</th>\n",
       "      <th>Dependents</th>\n",
       "      <th>tenure</th>\n",
       "      <th>PhoneService</th>\n",
       "      <th>MultipleLines</th>\n",
       "      <th>InternetService</th>\n",
       "      <th>OnlineSecurity</th>\n",
       "      <th>...</th>\n",
       "      <th>DeviceProtection</th>\n",
       "      <th>TechSupport</th>\n",
       "      <th>StreamingTV</th>\n",
       "      <th>StreamingMovies</th>\n",
       "      <th>Contract</th>\n",
       "      <th>PaperlessBilling</th>\n",
       "      <th>PaymentMethod</th>\n",
       "      <th>MonthlyCharges</th>\n",
       "      <th>TotalCharges</th>\n",
       "      <th>Churn</th>\n",
       "    </tr>\n",
       "  </thead>\n",
       "  <tbody>\n",
       "    <tr>\n",
       "      <th>0</th>\n",
       "      <td>7590-VHVEG</td>\n",
       "      <td>Female</td>\n",
       "      <td>0</td>\n",
       "      <td>Yes</td>\n",
       "      <td>No</td>\n",
       "      <td>1</td>\n",
       "      <td>No</td>\n",
       "      <td>No phone service</td>\n",
       "      <td>DSL</td>\n",
       "      <td>No</td>\n",
       "      <td>...</td>\n",
       "      <td>No</td>\n",
       "      <td>No</td>\n",
       "      <td>No</td>\n",
       "      <td>No</td>\n",
       "      <td>Month-to-month</td>\n",
       "      <td>Yes</td>\n",
       "      <td>Electronic check</td>\n",
       "      <td>29.85</td>\n",
       "      <td>29.85</td>\n",
       "      <td>No</td>\n",
       "    </tr>\n",
       "    <tr>\n",
       "      <th>1</th>\n",
       "      <td>5575-GNVDE</td>\n",
       "      <td>Male</td>\n",
       "      <td>0</td>\n",
       "      <td>No</td>\n",
       "      <td>No</td>\n",
       "      <td>34</td>\n",
       "      <td>Yes</td>\n",
       "      <td>No</td>\n",
       "      <td>DSL</td>\n",
       "      <td>Yes</td>\n",
       "      <td>...</td>\n",
       "      <td>Yes</td>\n",
       "      <td>No</td>\n",
       "      <td>No</td>\n",
       "      <td>No</td>\n",
       "      <td>One year</td>\n",
       "      <td>No</td>\n",
       "      <td>Mailed check</td>\n",
       "      <td>56.95</td>\n",
       "      <td>1889.5</td>\n",
       "      <td>No</td>\n",
       "    </tr>\n",
       "    <tr>\n",
       "      <th>2</th>\n",
       "      <td>3668-QPYBK</td>\n",
       "      <td>Male</td>\n",
       "      <td>0</td>\n",
       "      <td>No</td>\n",
       "      <td>No</td>\n",
       "      <td>2</td>\n",
       "      <td>Yes</td>\n",
       "      <td>No</td>\n",
       "      <td>DSL</td>\n",
       "      <td>Yes</td>\n",
       "      <td>...</td>\n",
       "      <td>No</td>\n",
       "      <td>No</td>\n",
       "      <td>No</td>\n",
       "      <td>No</td>\n",
       "      <td>Month-to-month</td>\n",
       "      <td>Yes</td>\n",
       "      <td>Mailed check</td>\n",
       "      <td>53.85</td>\n",
       "      <td>108.15</td>\n",
       "      <td>Yes</td>\n",
       "    </tr>\n",
       "    <tr>\n",
       "      <th>3</th>\n",
       "      <td>7795-CFOCW</td>\n",
       "      <td>Male</td>\n",
       "      <td>0</td>\n",
       "      <td>No</td>\n",
       "      <td>No</td>\n",
       "      <td>45</td>\n",
       "      <td>No</td>\n",
       "      <td>No phone service</td>\n",
       "      <td>DSL</td>\n",
       "      <td>Yes</td>\n",
       "      <td>...</td>\n",
       "      <td>Yes</td>\n",
       "      <td>Yes</td>\n",
       "      <td>No</td>\n",
       "      <td>No</td>\n",
       "      <td>One year</td>\n",
       "      <td>No</td>\n",
       "      <td>Bank transfer (automatic)</td>\n",
       "      <td>42.30</td>\n",
       "      <td>1840.75</td>\n",
       "      <td>No</td>\n",
       "    </tr>\n",
       "    <tr>\n",
       "      <th>4</th>\n",
       "      <td>9237-HQITU</td>\n",
       "      <td>Female</td>\n",
       "      <td>0</td>\n",
       "      <td>No</td>\n",
       "      <td>No</td>\n",
       "      <td>2</td>\n",
       "      <td>Yes</td>\n",
       "      <td>No</td>\n",
       "      <td>Fiber optic</td>\n",
       "      <td>No</td>\n",
       "      <td>...</td>\n",
       "      <td>No</td>\n",
       "      <td>No</td>\n",
       "      <td>No</td>\n",
       "      <td>No</td>\n",
       "      <td>Month-to-month</td>\n",
       "      <td>Yes</td>\n",
       "      <td>Electronic check</td>\n",
       "      <td>70.70</td>\n",
       "      <td>151.65</td>\n",
       "      <td>Yes</td>\n",
       "    </tr>\n",
       "    <tr>\n",
       "      <th>...</th>\n",
       "      <td>...</td>\n",
       "      <td>...</td>\n",
       "      <td>...</td>\n",
       "      <td>...</td>\n",
       "      <td>...</td>\n",
       "      <td>...</td>\n",
       "      <td>...</td>\n",
       "      <td>...</td>\n",
       "      <td>...</td>\n",
       "      <td>...</td>\n",
       "      <td>...</td>\n",
       "      <td>...</td>\n",
       "      <td>...</td>\n",
       "      <td>...</td>\n",
       "      <td>...</td>\n",
       "      <td>...</td>\n",
       "      <td>...</td>\n",
       "      <td>...</td>\n",
       "      <td>...</td>\n",
       "      <td>...</td>\n",
       "      <td>...</td>\n",
       "    </tr>\n",
       "    <tr>\n",
       "      <th>7038</th>\n",
       "      <td>6840-RESVB</td>\n",
       "      <td>Male</td>\n",
       "      <td>0</td>\n",
       "      <td>Yes</td>\n",
       "      <td>Yes</td>\n",
       "      <td>24</td>\n",
       "      <td>Yes</td>\n",
       "      <td>Yes</td>\n",
       "      <td>DSL</td>\n",
       "      <td>Yes</td>\n",
       "      <td>...</td>\n",
       "      <td>Yes</td>\n",
       "      <td>Yes</td>\n",
       "      <td>Yes</td>\n",
       "      <td>Yes</td>\n",
       "      <td>One year</td>\n",
       "      <td>Yes</td>\n",
       "      <td>Mailed check</td>\n",
       "      <td>84.80</td>\n",
       "      <td>1990.5</td>\n",
       "      <td>No</td>\n",
       "    </tr>\n",
       "    <tr>\n",
       "      <th>7039</th>\n",
       "      <td>2234-XADUH</td>\n",
       "      <td>Female</td>\n",
       "      <td>0</td>\n",
       "      <td>Yes</td>\n",
       "      <td>Yes</td>\n",
       "      <td>72</td>\n",
       "      <td>Yes</td>\n",
       "      <td>Yes</td>\n",
       "      <td>Fiber optic</td>\n",
       "      <td>No</td>\n",
       "      <td>...</td>\n",
       "      <td>Yes</td>\n",
       "      <td>No</td>\n",
       "      <td>Yes</td>\n",
       "      <td>Yes</td>\n",
       "      <td>One year</td>\n",
       "      <td>Yes</td>\n",
       "      <td>Credit card (automatic)</td>\n",
       "      <td>103.20</td>\n",
       "      <td>7362.9</td>\n",
       "      <td>No</td>\n",
       "    </tr>\n",
       "    <tr>\n",
       "      <th>7040</th>\n",
       "      <td>4801-JZAZL</td>\n",
       "      <td>Female</td>\n",
       "      <td>0</td>\n",
       "      <td>Yes</td>\n",
       "      <td>Yes</td>\n",
       "      <td>11</td>\n",
       "      <td>No</td>\n",
       "      <td>No phone service</td>\n",
       "      <td>DSL</td>\n",
       "      <td>Yes</td>\n",
       "      <td>...</td>\n",
       "      <td>No</td>\n",
       "      <td>No</td>\n",
       "      <td>No</td>\n",
       "      <td>No</td>\n",
       "      <td>Month-to-month</td>\n",
       "      <td>Yes</td>\n",
       "      <td>Electronic check</td>\n",
       "      <td>29.60</td>\n",
       "      <td>346.45</td>\n",
       "      <td>No</td>\n",
       "    </tr>\n",
       "    <tr>\n",
       "      <th>7041</th>\n",
       "      <td>8361-LTMKD</td>\n",
       "      <td>Male</td>\n",
       "      <td>1</td>\n",
       "      <td>Yes</td>\n",
       "      <td>No</td>\n",
       "      <td>4</td>\n",
       "      <td>Yes</td>\n",
       "      <td>Yes</td>\n",
       "      <td>Fiber optic</td>\n",
       "      <td>No</td>\n",
       "      <td>...</td>\n",
       "      <td>No</td>\n",
       "      <td>No</td>\n",
       "      <td>No</td>\n",
       "      <td>No</td>\n",
       "      <td>Month-to-month</td>\n",
       "      <td>Yes</td>\n",
       "      <td>Mailed check</td>\n",
       "      <td>74.40</td>\n",
       "      <td>306.6</td>\n",
       "      <td>Yes</td>\n",
       "    </tr>\n",
       "    <tr>\n",
       "      <th>7042</th>\n",
       "      <td>3186-AJIEK</td>\n",
       "      <td>Male</td>\n",
       "      <td>0</td>\n",
       "      <td>No</td>\n",
       "      <td>No</td>\n",
       "      <td>66</td>\n",
       "      <td>Yes</td>\n",
       "      <td>No</td>\n",
       "      <td>Fiber optic</td>\n",
       "      <td>Yes</td>\n",
       "      <td>...</td>\n",
       "      <td>Yes</td>\n",
       "      <td>Yes</td>\n",
       "      <td>Yes</td>\n",
       "      <td>Yes</td>\n",
       "      <td>Two year</td>\n",
       "      <td>Yes</td>\n",
       "      <td>Bank transfer (automatic)</td>\n",
       "      <td>105.65</td>\n",
       "      <td>6844.5</td>\n",
       "      <td>No</td>\n",
       "    </tr>\n",
       "  </tbody>\n",
       "</table>\n",
       "<p>7043 rows × 21 columns</p>\n",
       "</div>"
      ]
     },
     "execution_count": 4,
     "metadata": {},
     "output_type": "execute_result"
    }
   ],
   "execution_count": 4
  },
  {
   "metadata": {
    "ExecuteTime": {
     "end_time": "2025-08-31T09:27:43.848010Z",
     "start_time": "2025-08-31T09:27:43.837520Z"
    }
   },
   "cell_type": "code",
   "source": [
    "df.drop('customerID', axis = 'columns', inplace = True)\n",
    "df.dtypes"
   ],
   "id": "2a14ce21ee2fbb46",
   "outputs": [
    {
     "data": {
      "text/plain": [
       "gender               object\n",
       "SeniorCitizen         int64\n",
       "Partner              object\n",
       "Dependents           object\n",
       "tenure                int64\n",
       "PhoneService         object\n",
       "MultipleLines        object\n",
       "InternetService      object\n",
       "OnlineSecurity       object\n",
       "OnlineBackup         object\n",
       "DeviceProtection     object\n",
       "TechSupport          object\n",
       "StreamingTV          object\n",
       "StreamingMovies      object\n",
       "Contract             object\n",
       "PaperlessBilling     object\n",
       "PaymentMethod        object\n",
       "MonthlyCharges      float64\n",
       "TotalCharges         object\n",
       "Churn                object\n",
       "dtype: object"
      ]
     },
     "execution_count": 5,
     "metadata": {},
     "output_type": "execute_result"
    }
   ],
   "execution_count": 5
  },
  {
   "metadata": {
    "ExecuteTime": {
     "end_time": "2025-08-31T09:27:44.476180Z",
     "start_time": "2025-08-31T09:27:44.470029Z"
    }
   },
   "cell_type": "code",
   "source": "df.TotalCharges.values",
   "id": "673ac31d705cd03b",
   "outputs": [
    {
     "data": {
      "text/plain": [
       "array(['29.85', '1889.5', '108.15', ..., '346.45', '306.6', '6844.5'], dtype=object)"
      ]
     },
     "execution_count": 6,
     "metadata": {},
     "output_type": "execute_result"
    }
   ],
   "execution_count": 6
  },
  {
   "metadata": {},
   "cell_type": "markdown",
   "source": "**NOTICE** :- Here the Total charges are in strings so we have to convert them into numbers.",
   "id": "7179540ff03033f"
  },
  {
   "metadata": {
    "ExecuteTime": {
     "end_time": "2025-08-31T09:27:45.144326Z",
     "start_time": "2025-08-31T09:27:45.132131Z"
    }
   },
   "cell_type": "code",
   "source": "df.MonthlyCharges.values",
   "id": "37837cebf0e60315",
   "outputs": [
    {
     "data": {
      "text/plain": [
       "array([      29.85,       56.95,       53.85, ...,        29.6,        74.4,      105.65])"
      ]
     },
     "execution_count": 7,
     "metadata": {},
     "output_type": "execute_result"
    }
   ],
   "execution_count": 7
  },
  {
   "metadata": {
    "ExecuteTime": {
     "end_time": "2025-08-31T09:27:45.563344Z",
     "start_time": "2025-08-31T09:27:45.549437Z"
    }
   },
   "cell_type": "code",
   "source": "pd.to_numeric(df.TotalCharges, errors = 'coerce').isnull()",
   "id": "1bf9ba48cbeab1a8",
   "outputs": [
    {
     "data": {
      "text/plain": [
       "0       False\n",
       "1       False\n",
       "2       False\n",
       "3       False\n",
       "4       False\n",
       "        ...  \n",
       "7038    False\n",
       "7039    False\n",
       "7040    False\n",
       "7041    False\n",
       "7042    False\n",
       "Name: TotalCharges, Length: 7043, dtype: bool"
      ]
     },
     "execution_count": 8,
     "metadata": {},
     "output_type": "execute_result"
    }
   ],
   "execution_count": 8
  },
  {
   "metadata": {
    "ExecuteTime": {
     "end_time": "2025-08-31T09:27:45.843484Z",
     "start_time": "2025-08-31T09:27:45.804680Z"
    }
   },
   "cell_type": "code",
   "source": "df[pd.to_numeric(df.TotalCharges, errors = 'coerce').isnull()]",
   "id": "555f64cd0aadf09e",
   "outputs": [
    {
     "data": {
      "text/plain": [
       "      gender  SeniorCitizen Partner Dependents  tenure PhoneService  \\\n",
       "488   Female              0     Yes        Yes       0           No   \n",
       "753     Male              0      No        Yes       0          Yes   \n",
       "936   Female              0     Yes        Yes       0          Yes   \n",
       "1082    Male              0     Yes        Yes       0          Yes   \n",
       "1340  Female              0     Yes        Yes       0           No   \n",
       "3331    Male              0     Yes        Yes       0          Yes   \n",
       "3826    Male              0     Yes        Yes       0          Yes   \n",
       "4380  Female              0     Yes        Yes       0          Yes   \n",
       "5218    Male              0     Yes        Yes       0          Yes   \n",
       "6670  Female              0     Yes        Yes       0          Yes   \n",
       "6754    Male              0      No        Yes       0          Yes   \n",
       "\n",
       "         MultipleLines InternetService       OnlineSecurity  \\\n",
       "488   No phone service             DSL                  Yes   \n",
       "753                 No              No  No internet service   \n",
       "936                 No             DSL                  Yes   \n",
       "1082               Yes              No  No internet service   \n",
       "1340  No phone service             DSL                  Yes   \n",
       "3331                No              No  No internet service   \n",
       "3826               Yes              No  No internet service   \n",
       "4380                No              No  No internet service   \n",
       "5218                No              No  No internet service   \n",
       "6670               Yes             DSL                   No   \n",
       "6754               Yes             DSL                  Yes   \n",
       "\n",
       "             OnlineBackup     DeviceProtection          TechSupport  \\\n",
       "488                    No                  Yes                  Yes   \n",
       "753   No internet service  No internet service  No internet service   \n",
       "936                   Yes                  Yes                   No   \n",
       "1082  No internet service  No internet service  No internet service   \n",
       "1340                  Yes                  Yes                  Yes   \n",
       "3331  No internet service  No internet service  No internet service   \n",
       "3826  No internet service  No internet service  No internet service   \n",
       "4380  No internet service  No internet service  No internet service   \n",
       "5218  No internet service  No internet service  No internet service   \n",
       "6670                  Yes                  Yes                  Yes   \n",
       "6754                  Yes                   No                  Yes   \n",
       "\n",
       "              StreamingTV      StreamingMovies  Contract PaperlessBilling  \\\n",
       "488                   Yes                   No  Two year              Yes   \n",
       "753   No internet service  No internet service  Two year               No   \n",
       "936                   Yes                  Yes  Two year               No   \n",
       "1082  No internet service  No internet service  Two year               No   \n",
       "1340                  Yes                   No  Two year               No   \n",
       "3331  No internet service  No internet service  Two year               No   \n",
       "3826  No internet service  No internet service  Two year               No   \n",
       "4380  No internet service  No internet service  Two year               No   \n",
       "5218  No internet service  No internet service  One year              Yes   \n",
       "6670                  Yes                   No  Two year               No   \n",
       "6754                   No                   No  Two year              Yes   \n",
       "\n",
       "                  PaymentMethod  MonthlyCharges TotalCharges Churn  \n",
       "488   Bank transfer (automatic)           52.55                 No  \n",
       "753                Mailed check           20.25                 No  \n",
       "936                Mailed check           80.85                 No  \n",
       "1082               Mailed check           25.75                 No  \n",
       "1340    Credit card (automatic)           56.05                 No  \n",
       "3331               Mailed check           19.85                 No  \n",
       "3826               Mailed check           25.35                 No  \n",
       "4380               Mailed check           20.00                 No  \n",
       "5218               Mailed check           19.70                 No  \n",
       "6670               Mailed check           73.35                 No  \n",
       "6754  Bank transfer (automatic)           61.90                 No  "
      ],
      "text/html": [
       "<div>\n",
       "<style scoped>\n",
       "    .dataframe tbody tr th:only-of-type {\n",
       "        vertical-align: middle;\n",
       "    }\n",
       "\n",
       "    .dataframe tbody tr th {\n",
       "        vertical-align: top;\n",
       "    }\n",
       "\n",
       "    .dataframe thead th {\n",
       "        text-align: right;\n",
       "    }\n",
       "</style>\n",
       "<table border=\"1\" class=\"dataframe\">\n",
       "  <thead>\n",
       "    <tr style=\"text-align: right;\">\n",
       "      <th></th>\n",
       "      <th>gender</th>\n",
       "      <th>SeniorCitizen</th>\n",
       "      <th>Partner</th>\n",
       "      <th>Dependents</th>\n",
       "      <th>tenure</th>\n",
       "      <th>PhoneService</th>\n",
       "      <th>MultipleLines</th>\n",
       "      <th>InternetService</th>\n",
       "      <th>OnlineSecurity</th>\n",
       "      <th>OnlineBackup</th>\n",
       "      <th>DeviceProtection</th>\n",
       "      <th>TechSupport</th>\n",
       "      <th>StreamingTV</th>\n",
       "      <th>StreamingMovies</th>\n",
       "      <th>Contract</th>\n",
       "      <th>PaperlessBilling</th>\n",
       "      <th>PaymentMethod</th>\n",
       "      <th>MonthlyCharges</th>\n",
       "      <th>TotalCharges</th>\n",
       "      <th>Churn</th>\n",
       "    </tr>\n",
       "  </thead>\n",
       "  <tbody>\n",
       "    <tr>\n",
       "      <th>488</th>\n",
       "      <td>Female</td>\n",
       "      <td>0</td>\n",
       "      <td>Yes</td>\n",
       "      <td>Yes</td>\n",
       "      <td>0</td>\n",
       "      <td>No</td>\n",
       "      <td>No phone service</td>\n",
       "      <td>DSL</td>\n",
       "      <td>Yes</td>\n",
       "      <td>No</td>\n",
       "      <td>Yes</td>\n",
       "      <td>Yes</td>\n",
       "      <td>Yes</td>\n",
       "      <td>No</td>\n",
       "      <td>Two year</td>\n",
       "      <td>Yes</td>\n",
       "      <td>Bank transfer (automatic)</td>\n",
       "      <td>52.55</td>\n",
       "      <td></td>\n",
       "      <td>No</td>\n",
       "    </tr>\n",
       "    <tr>\n",
       "      <th>753</th>\n",
       "      <td>Male</td>\n",
       "      <td>0</td>\n",
       "      <td>No</td>\n",
       "      <td>Yes</td>\n",
       "      <td>0</td>\n",
       "      <td>Yes</td>\n",
       "      <td>No</td>\n",
       "      <td>No</td>\n",
       "      <td>No internet service</td>\n",
       "      <td>No internet service</td>\n",
       "      <td>No internet service</td>\n",
       "      <td>No internet service</td>\n",
       "      <td>No internet service</td>\n",
       "      <td>No internet service</td>\n",
       "      <td>Two year</td>\n",
       "      <td>No</td>\n",
       "      <td>Mailed check</td>\n",
       "      <td>20.25</td>\n",
       "      <td></td>\n",
       "      <td>No</td>\n",
       "    </tr>\n",
       "    <tr>\n",
       "      <th>936</th>\n",
       "      <td>Female</td>\n",
       "      <td>0</td>\n",
       "      <td>Yes</td>\n",
       "      <td>Yes</td>\n",
       "      <td>0</td>\n",
       "      <td>Yes</td>\n",
       "      <td>No</td>\n",
       "      <td>DSL</td>\n",
       "      <td>Yes</td>\n",
       "      <td>Yes</td>\n",
       "      <td>Yes</td>\n",
       "      <td>No</td>\n",
       "      <td>Yes</td>\n",
       "      <td>Yes</td>\n",
       "      <td>Two year</td>\n",
       "      <td>No</td>\n",
       "      <td>Mailed check</td>\n",
       "      <td>80.85</td>\n",
       "      <td></td>\n",
       "      <td>No</td>\n",
       "    </tr>\n",
       "    <tr>\n",
       "      <th>1082</th>\n",
       "      <td>Male</td>\n",
       "      <td>0</td>\n",
       "      <td>Yes</td>\n",
       "      <td>Yes</td>\n",
       "      <td>0</td>\n",
       "      <td>Yes</td>\n",
       "      <td>Yes</td>\n",
       "      <td>No</td>\n",
       "      <td>No internet service</td>\n",
       "      <td>No internet service</td>\n",
       "      <td>No internet service</td>\n",
       "      <td>No internet service</td>\n",
       "      <td>No internet service</td>\n",
       "      <td>No internet service</td>\n",
       "      <td>Two year</td>\n",
       "      <td>No</td>\n",
       "      <td>Mailed check</td>\n",
       "      <td>25.75</td>\n",
       "      <td></td>\n",
       "      <td>No</td>\n",
       "    </tr>\n",
       "    <tr>\n",
       "      <th>1340</th>\n",
       "      <td>Female</td>\n",
       "      <td>0</td>\n",
       "      <td>Yes</td>\n",
       "      <td>Yes</td>\n",
       "      <td>0</td>\n",
       "      <td>No</td>\n",
       "      <td>No phone service</td>\n",
       "      <td>DSL</td>\n",
       "      <td>Yes</td>\n",
       "      <td>Yes</td>\n",
       "      <td>Yes</td>\n",
       "      <td>Yes</td>\n",
       "      <td>Yes</td>\n",
       "      <td>No</td>\n",
       "      <td>Two year</td>\n",
       "      <td>No</td>\n",
       "      <td>Credit card (automatic)</td>\n",
       "      <td>56.05</td>\n",
       "      <td></td>\n",
       "      <td>No</td>\n",
       "    </tr>\n",
       "    <tr>\n",
       "      <th>3331</th>\n",
       "      <td>Male</td>\n",
       "      <td>0</td>\n",
       "      <td>Yes</td>\n",
       "      <td>Yes</td>\n",
       "      <td>0</td>\n",
       "      <td>Yes</td>\n",
       "      <td>No</td>\n",
       "      <td>No</td>\n",
       "      <td>No internet service</td>\n",
       "      <td>No internet service</td>\n",
       "      <td>No internet service</td>\n",
       "      <td>No internet service</td>\n",
       "      <td>No internet service</td>\n",
       "      <td>No internet service</td>\n",
       "      <td>Two year</td>\n",
       "      <td>No</td>\n",
       "      <td>Mailed check</td>\n",
       "      <td>19.85</td>\n",
       "      <td></td>\n",
       "      <td>No</td>\n",
       "    </tr>\n",
       "    <tr>\n",
       "      <th>3826</th>\n",
       "      <td>Male</td>\n",
       "      <td>0</td>\n",
       "      <td>Yes</td>\n",
       "      <td>Yes</td>\n",
       "      <td>0</td>\n",
       "      <td>Yes</td>\n",
       "      <td>Yes</td>\n",
       "      <td>No</td>\n",
       "      <td>No internet service</td>\n",
       "      <td>No internet service</td>\n",
       "      <td>No internet service</td>\n",
       "      <td>No internet service</td>\n",
       "      <td>No internet service</td>\n",
       "      <td>No internet service</td>\n",
       "      <td>Two year</td>\n",
       "      <td>No</td>\n",
       "      <td>Mailed check</td>\n",
       "      <td>25.35</td>\n",
       "      <td></td>\n",
       "      <td>No</td>\n",
       "    </tr>\n",
       "    <tr>\n",
       "      <th>4380</th>\n",
       "      <td>Female</td>\n",
       "      <td>0</td>\n",
       "      <td>Yes</td>\n",
       "      <td>Yes</td>\n",
       "      <td>0</td>\n",
       "      <td>Yes</td>\n",
       "      <td>No</td>\n",
       "      <td>No</td>\n",
       "      <td>No internet service</td>\n",
       "      <td>No internet service</td>\n",
       "      <td>No internet service</td>\n",
       "      <td>No internet service</td>\n",
       "      <td>No internet service</td>\n",
       "      <td>No internet service</td>\n",
       "      <td>Two year</td>\n",
       "      <td>No</td>\n",
       "      <td>Mailed check</td>\n",
       "      <td>20.00</td>\n",
       "      <td></td>\n",
       "      <td>No</td>\n",
       "    </tr>\n",
       "    <tr>\n",
       "      <th>5218</th>\n",
       "      <td>Male</td>\n",
       "      <td>0</td>\n",
       "      <td>Yes</td>\n",
       "      <td>Yes</td>\n",
       "      <td>0</td>\n",
       "      <td>Yes</td>\n",
       "      <td>No</td>\n",
       "      <td>No</td>\n",
       "      <td>No internet service</td>\n",
       "      <td>No internet service</td>\n",
       "      <td>No internet service</td>\n",
       "      <td>No internet service</td>\n",
       "      <td>No internet service</td>\n",
       "      <td>No internet service</td>\n",
       "      <td>One year</td>\n",
       "      <td>Yes</td>\n",
       "      <td>Mailed check</td>\n",
       "      <td>19.70</td>\n",
       "      <td></td>\n",
       "      <td>No</td>\n",
       "    </tr>\n",
       "    <tr>\n",
       "      <th>6670</th>\n",
       "      <td>Female</td>\n",
       "      <td>0</td>\n",
       "      <td>Yes</td>\n",
       "      <td>Yes</td>\n",
       "      <td>0</td>\n",
       "      <td>Yes</td>\n",
       "      <td>Yes</td>\n",
       "      <td>DSL</td>\n",
       "      <td>No</td>\n",
       "      <td>Yes</td>\n",
       "      <td>Yes</td>\n",
       "      <td>Yes</td>\n",
       "      <td>Yes</td>\n",
       "      <td>No</td>\n",
       "      <td>Two year</td>\n",
       "      <td>No</td>\n",
       "      <td>Mailed check</td>\n",
       "      <td>73.35</td>\n",
       "      <td></td>\n",
       "      <td>No</td>\n",
       "    </tr>\n",
       "    <tr>\n",
       "      <th>6754</th>\n",
       "      <td>Male</td>\n",
       "      <td>0</td>\n",
       "      <td>No</td>\n",
       "      <td>Yes</td>\n",
       "      <td>0</td>\n",
       "      <td>Yes</td>\n",
       "      <td>Yes</td>\n",
       "      <td>DSL</td>\n",
       "      <td>Yes</td>\n",
       "      <td>Yes</td>\n",
       "      <td>No</td>\n",
       "      <td>Yes</td>\n",
       "      <td>No</td>\n",
       "      <td>No</td>\n",
       "      <td>Two year</td>\n",
       "      <td>Yes</td>\n",
       "      <td>Bank transfer (automatic)</td>\n",
       "      <td>61.90</td>\n",
       "      <td></td>\n",
       "      <td>No</td>\n",
       "    </tr>\n",
       "  </tbody>\n",
       "</table>\n",
       "</div>"
      ]
     },
     "execution_count": 9,
     "metadata": {},
     "output_type": "execute_result"
    }
   ],
   "execution_count": 9
  },
  {
   "metadata": {
    "ExecuteTime": {
     "end_time": "2025-08-31T09:27:46.332971Z",
     "start_time": "2025-08-31T09:27:46.319626Z"
    }
   },
   "cell_type": "code",
   "source": "df[pd.to_numeric(df.TotalCharges, errors = 'coerce').isnull()].shape",
   "id": "c4cc3d9195eece97",
   "outputs": [
    {
     "data": {
      "text/plain": [
       "(11, 20)"
      ]
     },
     "execution_count": 10,
     "metadata": {},
     "output_type": "execute_result"
    }
   ],
   "execution_count": 10
  },
  {
   "metadata": {
    "ExecuteTime": {
     "end_time": "2025-08-31T09:27:46.903782Z",
     "start_time": "2025-08-31T09:27:46.882025Z"
    }
   },
   "cell_type": "code",
   "source": "df.shape",
   "id": "531d510318862ff",
   "outputs": [
    {
     "data": {
      "text/plain": [
       "(7043, 20)"
      ]
     },
     "execution_count": 11,
     "metadata": {},
     "output_type": "execute_result"
    }
   ],
   "execution_count": 11
  },
  {
   "metadata": {
    "ExecuteTime": {
     "end_time": "2025-08-31T09:27:47.291025Z",
     "start_time": "2025-08-31T09:27:47.281195Z"
    }
   },
   "cell_type": "code",
   "source": [
    "df1 = df[df.TotalCharges!=\" \"]\n",
    "df1.shape"
   ],
   "id": "8ac58eb1cfd4991d",
   "outputs": [
    {
     "data": {
      "text/plain": [
       "(7032, 20)"
      ]
     },
     "execution_count": 12,
     "metadata": {},
     "output_type": "execute_result"
    }
   ],
   "execution_count": 12
  },
  {
   "metadata": {
    "ExecuteTime": {
     "end_time": "2025-08-31T09:27:47.537007Z",
     "start_time": "2025-08-31T09:27:47.528758Z"
    }
   },
   "cell_type": "code",
   "source": "df1.dtypes",
   "id": "d1fadf6135270460",
   "outputs": [
    {
     "data": {
      "text/plain": [
       "gender               object\n",
       "SeniorCitizen         int64\n",
       "Partner              object\n",
       "Dependents           object\n",
       "tenure                int64\n",
       "PhoneService         object\n",
       "MultipleLines        object\n",
       "InternetService      object\n",
       "OnlineSecurity       object\n",
       "OnlineBackup         object\n",
       "DeviceProtection     object\n",
       "TechSupport          object\n",
       "StreamingTV          object\n",
       "StreamingMovies      object\n",
       "Contract             object\n",
       "PaperlessBilling     object\n",
       "PaymentMethod        object\n",
       "MonthlyCharges      float64\n",
       "TotalCharges         object\n",
       "Churn                object\n",
       "dtype: object"
      ]
     },
     "execution_count": 13,
     "metadata": {},
     "output_type": "execute_result"
    }
   ],
   "execution_count": 13
  },
  {
   "metadata": {
    "ExecuteTime": {
     "end_time": "2025-08-31T09:37:05.989173Z",
     "start_time": "2025-08-31T09:37:05.975924Z"
    }
   },
   "cell_type": "code",
   "source": "# df1.TotalCharges = pd.to_numeric(df1.TotalCharges)",
   "id": "318a876bc917a47d",
   "outputs": [],
   "execution_count": 58
  },
  {
   "metadata": {
    "ExecuteTime": {
     "end_time": "2025-08-31T09:27:48.273161Z",
     "start_time": "2025-08-31T09:27:48.267146Z"
    }
   },
   "cell_type": "code",
   "source": "df1.TotalCharges.dtype",
   "id": "d914c42c0d21196d",
   "outputs": [
    {
     "data": {
      "text/plain": [
       "dtype('float64')"
      ]
     },
     "execution_count": 15,
     "metadata": {},
     "output_type": "execute_result"
    }
   ],
   "execution_count": 15
  },
  {
   "metadata": {
    "ExecuteTime": {
     "end_time": "2025-08-31T09:27:48.985353Z",
     "start_time": "2025-08-31T09:27:48.684659Z"
    }
   },
   "cell_type": "code",
   "source": [
    "tenure_churn_no = df1[df1.Churn==\"No\"].tenure\n",
    "tenure_churn_yes = df1[df1.Churn==\"Yes\"].tenure\n",
    "\n",
    "plt.xlabel('Tenure')\n",
    "plt.ylabel('Number of customers')\n",
    "plt.title('Customer churn prediction')\n",
    "\n",
    "plt.hist([tenure_churn_no, tenure_churn_yes], color =['red', 'green'], label = ['Churn No', 'Churn Yes'])\n",
    "plt.legend()"
   ],
   "id": "8dbb6b097aa64b57",
   "outputs": [
    {
     "data": {
      "text/plain": [
       "<matplotlib.legend.Legend at 0x1f8b1e76e90>"
      ]
     },
     "execution_count": 16,
     "metadata": {},
     "output_type": "execute_result"
    },
    {
     "data": {
      "text/plain": [
       "<Figure size 640x480 with 1 Axes>"
      ],
      "image/png": "[encoded data removed]"
     },
     "metadata": {},
     "output_type": "display_data"
    }
   ],
   "execution_count": 16
  },
  {
   "metadata": {},
   "cell_type": "markdown",
   "source": "The below code help's us get unique values for each column",
   "id": "7a703ac80ad68106"
  },
  {
   "metadata": {
    "ExecuteTime": {
     "end_time": "2025-08-31T09:27:49.182274Z",
     "start_time": "2025-08-31T09:27:49.166068Z"
    }
   },
   "cell_type": "code",
   "source": [
    "def print_unique_values(df):\n",
    "    for column in df:\n",
    "        if df[column].dtypes == object:\n",
    "            print(f'{column} : {df[column].unique()}')\n",
    "\n",
    "print_unique_values(df1)"
   ],
   "id": "b3798295db99d14b",
   "outputs": [
    {
     "name": "stdout",
     "output_type": "stream",
     "text": [
      "gender : ['Female' 'Male']\n",
      "Partner : ['Yes' 'No']\n",
      "Dependents : ['No' 'Yes']\n",
      "PhoneService : ['No' 'Yes']\n",
      "MultipleLines : ['No phone service' 'No' 'Yes']\n",
      "InternetService : ['DSL' 'Fiber optic' 'No']\n",
      "OnlineSecurity : ['No' 'Yes' 'No internet service']\n",
      "OnlineBackup : ['Yes' 'No' 'No internet service']\n",
      "DeviceProtection : ['No' 'Yes' 'No internet service']\n",
      "TechSupport : ['No' 'Yes' 'No internet service']\n",
      "StreamingTV : ['No' 'Yes' 'No internet service']\n",
      "StreamingMovies : ['No' 'Yes' 'No internet service']\n",
      "Contract : ['Month-to-month' 'One year' 'Two year']\n",
      "PaperlessBilling : ['Yes' 'No']\n",
      "PaymentMethod : ['Electronic check' 'Mailed check' 'Bank transfer (automatic)' 'Credit card (automatic)']\n",
      "Churn : ['No' 'Yes']\n"
     ]
    }
   ],
   "execution_count": 17
  },
  {
   "metadata": {
    "ExecuteTime": {
     "end_time": "2025-08-31T09:37:00.379992Z",
     "start_time": "2025-08-31T09:37:00.368764Z"
    }
   },
   "cell_type": "code",
   "source": [
    "# df1.replace('No internet service', 'No', inplace=True)\n",
    "# df1.replace('No phone service', 'No', inplace=True)"
   ],
   "id": "604e15c512c86c80",
   "outputs": [],
   "execution_count": 57
  },
  {
   "metadata": {
    "ExecuteTime": {
     "end_time": "2025-08-31T09:27:49.660549Z",
     "start_time": "2025-08-31T09:27:49.642348Z"
    }
   },
   "cell_type": "code",
   "source": "print_unique_values(df1)",
   "id": "e299f9646ee4a5a3",
   "outputs": [
    {
     "name": "stdout",
     "output_type": "stream",
     "text": [
      "gender : ['Female' 'Male']\n",
      "Partner : ['Yes' 'No']\n",
      "Dependents : ['No' 'Yes']\n",
      "PhoneService : ['No' 'Yes']\n",
      "MultipleLines : ['No' 'Yes']\n",
      "InternetService : ['DSL' 'Fiber optic' 'No']\n",
      "OnlineSecurity : ['No' 'Yes']\n",
      "OnlineBackup : ['Yes' 'No']\n",
      "DeviceProtection : ['No' 'Yes']\n",
      "TechSupport : ['No' 'Yes']\n",
      "StreamingTV : ['No' 'Yes']\n",
      "StreamingMovies : ['No' 'Yes']\n",
      "Contract : ['Month-to-month' 'One year' 'Two year']\n",
      "PaperlessBilling : ['Yes' 'No']\n",
      "PaymentMethod : ['Electronic check' 'Mailed check' 'Bank transfer (automatic)' 'Credit card (automatic)']\n",
      "Churn : ['No' 'Yes']\n"
     ]
    }
   ],
   "execution_count": 19
  },
  {
   "metadata": {
    "ExecuteTime": {
     "end_time": "2025-08-31T09:36:55.849983Z",
     "start_time": "2025-08-31T09:36:55.840613Z"
    }
   },
   "cell_type": "code",
   "source": [
    "# yes_no_columns = ['Partner','Dependents','PhoneService','MultipleLines','OnlineSecurity','OnlineBackup',\n",
    "#                   'DeviceProtection','TechSupport','StreamingTV','StreamingMovies','PaperlessBilling','Churn']\n",
    "#\n",
    "# for column in yes_no_columns:\n",
    "#     df1[column].replace({'Yes' : 1, \"No\" : 0}, inplace = True)"
   ],
   "id": "fb4c4ab33e7732d8",
   "outputs": [],
   "execution_count": 56
  },
  {
   "metadata": {
    "ExecuteTime": {
     "end_time": "2025-08-31T09:27:50.216236Z",
     "start_time": "2025-08-31T09:27:50.202164Z"
    }
   },
   "cell_type": "code",
   "source": "print_unique_values(df1)",
   "id": "e05c20bfc45e5870",
   "outputs": [
    {
     "name": "stdout",
     "output_type": "stream",
     "text": [
      "gender : ['Female' 'Male']\n",
      "InternetService : ['DSL' 'Fiber optic' 'No']\n",
      "Contract : ['Month-to-month' 'One year' 'Two year']\n",
      "PaymentMethod : ['Electronic check' 'Mailed check' 'Bank transfer (automatic)' 'Credit card (automatic)']\n"
     ]
    }
   ],
   "execution_count": 21
  },
  {
   "metadata": {
    "ExecuteTime": {
     "end_time": "2025-08-31T09:27:50.448156Z",
     "start_time": "2025-08-31T09:27:50.432657Z"
    }
   },
   "cell_type": "code",
   "source": [
    "for columns in df1:\n",
    "    print(f\"{columns} : {df1[columns].unique()}\")"
   ],
   "id": "beb3e6e9d3a82b6b",
   "outputs": [
    {
     "name": "stdout",
     "output_type": "stream",
     "text": [
      "gender : ['Female' 'Male']\n",
      "SeniorCitizen : [0 1]\n",
      "Partner : [1 0]\n",
      "Dependents : [0 1]\n",
      "tenure : [ 1 34  2 45  8 22 10 28 62 13 16 58 49 25 69 52 71 21 12 30 47 72 17 27  5 46 11 70 63 43 15 60 18 66  9  3 31 50 64 56  7 42 35 48 29 65 38 68 32 55 37 36 41  6  4 33 67 23 57 61 14 20 53 40 59 24 44 19 54 51 26 39]\n",
      "PhoneService : [0 1]\n",
      "MultipleLines : [0 1]\n",
      "InternetService : ['DSL' 'Fiber optic' 'No']\n",
      "OnlineSecurity : [0 1]\n",
      "OnlineBackup : [1 0]\n",
      "DeviceProtection : [0 1]\n",
      "TechSupport : [0 1]\n",
      "StreamingTV : [0 1]\n",
      "StreamingMovies : [0 1]\n",
      "Contract : ['Month-to-month' 'One year' 'Two year']\n",
      "PaperlessBilling : [1 0]\n",
      "PaymentMethod : ['Electronic check' 'Mailed check' 'Bank transfer (automatic)' 'Credit card (automatic)']\n",
      "MonthlyCharges : [      29.85       56.95       53.85 ...        63.1        44.2        78.7]\n",
      "TotalCharges : [      29.85      1889.5      108.15 ...      346.45       306.6      6844.5]\n",
      "Churn : [0 1]\n"
     ]
    }
   ],
   "execution_count": 22
  },
  {
   "metadata": {
    "ExecuteTime": {
     "end_time": "2025-08-31T09:27:50.718240Z",
     "start_time": "2025-08-31T09:27:50.705281Z"
    }
   },
   "cell_type": "code",
   "source": "df1['gender'].replace({'Female' : 1, \"Male\" : 0}, inplace = True)",
   "id": "7fc409a4148fe0a",
   "outputs": [
    {
     "name": "stderr",
     "output_type": "stream",
     "text": [
      "C:\\Users\\Sanket S Dharne\\AppData\\Local\\Temp\\ipykernel_16536\\911633651.py:1: FutureWarning: A value is trying to be set on a copy of a DataFrame or Series through chained assignment using an inplace method.\n",
      "The behavior will change in pandas 3.0. This inplace method will never work because the intermediate object on which we are setting values always behaves as a copy.\n",
      "\n",
      "For example, when doing 'df[col].method(value, inplace=True)', try using 'df.method({col: value}, inplace=True)' or df[col] = df[col].method(value) instead, to perform the operation inplace on the original object.\n",
      "\n",
      "\n",
      "  df1['gender'].replace({'Female' : 1, \"Male\" : 0}, inplace = True)\n",
      "C:\\Users\\Sanket S Dharne\\AppData\\Local\\Temp\\ipykernel_16536\\911633651.py:1: FutureWarning: Downcasting behavior in `replace` is deprecated and will be removed in a future version. To retain the old behavior, explicitly call `result.infer_objects(copy=False)`. To opt-in to the future behavior, set `pd.set_option('future.no_silent_downcasting', True)`\n",
      "  df1['gender'].replace({'Female' : 1, \"Male\" : 0}, inplace = True)\n",
      "C:\\Users\\Sanket S Dharne\\AppData\\Local\\Temp\\ipykernel_16536\\911633651.py:1: SettingWithCopyWarning: \n",
      "A value is trying to be set on a copy of a slice from a DataFrame\n",
      "\n",
      "See the caveats in the documentation: https://pandas.pydata.org/pandas-docs/stable/user_guide/indexing.html#returning-a-view-versus-a-copy\n",
      "  df1['gender'].replace({'Female' : 1, \"Male\" : 0}, inplace = True)\n"
     ]
    }
   ],
   "execution_count": 23
  },
  {
   "metadata": {
    "ExecuteTime": {
     "end_time": "2025-08-31T09:27:50.953149Z",
     "start_time": "2025-08-31T09:27:50.943120Z"
    }
   },
   "cell_type": "code",
   "source": "df1['gender'].unique()",
   "id": "81d2335bd4956db8",
   "outputs": [
    {
     "data": {
      "text/plain": [
       "array([1, 0])"
      ]
     },
     "execution_count": 24,
     "metadata": {},
     "output_type": "execute_result"
    }
   ],
   "execution_count": 24
  },
  {
   "metadata": {},
   "cell_type": "markdown",
   "source": "In the below line of code we are ONE-HOT ENCODING the data",
   "id": "d9c74084e0b8cd23"
  },
  {
   "metadata": {
    "ExecuteTime": {
     "end_time": "2025-08-31T09:27:51.226148Z",
     "start_time": "2025-08-31T09:27:51.191611Z"
    }
   },
   "cell_type": "code",
   "source": [
    "df2 = pd.get_dummies(data = df1, columns = ['InternetService', 'Contract', 'PaymentMethod'])\n",
    "df2"
   ],
   "id": "395d370045bfb43e",
   "outputs": [
    {
     "data": {
      "text/plain": [
       "      gender  SeniorCitizen  Partner  Dependents  tenure  PhoneService  \\\n",
       "0          1              0        1           0       1             0   \n",
       "1          0              0        0           0      34             1   \n",
       "2          0              0        0           0       2             1   \n",
       "3          0              0        0           0      45             0   \n",
       "4          1              0        0           0       2             1   \n",
       "...      ...            ...      ...         ...     ...           ...   \n",
       "7038       0              0        1           1      24             1   \n",
       "7039       1              0        1           1      72             1   \n",
       "7040       1              0        1           1      11             0   \n",
       "7041       0              1        1           0       4             1   \n",
       "7042       0              0        0           0      66             1   \n",
       "\n",
       "      MultipleLines  OnlineSecurity  OnlineBackup  DeviceProtection  ...  \\\n",
       "0                 0               0             1                 0  ...   \n",
       "1                 0               1             0                 1  ...   \n",
       "2                 0               1             1                 0  ...   \n",
       "3                 0               1             0                 1  ...   \n",
       "4                 0               0             0                 0  ...   \n",
       "...             ...             ...           ...               ...  ...   \n",
       "7038              1               1             0                 1  ...   \n",
       "7039              1               0             1                 1  ...   \n",
       "7040              0               1             0                 0  ...   \n",
       "7041              1               0             0                 0  ...   \n",
       "7042              0               1             0                 1  ...   \n",
       "\n",
       "      InternetService_DSL  InternetService_Fiber optic  InternetService_No  \\\n",
       "0                    True                        False               False   \n",
       "1                    True                        False               False   \n",
       "2                    True                        False               False   \n",
       "3                    True                        False               False   \n",
       "4                   False                         True               False   \n",
       "...                   ...                          ...                 ...   \n",
       "7038                 True                        False               False   \n",
       "7039                False                         True               False   \n",
       "7040                 True                        False               False   \n",
       "7041                False                         True               False   \n",
       "7042                False                         True               False   \n",
       "\n",
       "      Contract_Month-to-month  Contract_One year  Contract_Two year  \\\n",
       "0                        True              False              False   \n",
       "1                       False               True              False   \n",
       "2                        True              False              False   \n",
       "3                       False               True              False   \n",
       "4                        True              False              False   \n",
       "...                       ...                ...                ...   \n",
       "7038                    False               True              False   \n",
       "7039                    False               True              False   \n",
       "7040                     True              False              False   \n",
       "7041                     True              False              False   \n",
       "7042                    False              False               True   \n",
       "\n",
       "      PaymentMethod_Bank transfer (automatic)  \\\n",
       "0                                       False   \n",
       "1                                       False   \n",
       "2                                       False   \n",
       "3                                        True   \n",
       "4                                       False   \n",
       "...                                       ...   \n",
       "7038                                    False   \n",
       "7039                                    False   \n",
       "7040                                    False   \n",
       "7041                                    False   \n",
       "7042                                     True   \n",
       "\n",
       "      PaymentMethod_Credit card (automatic)  PaymentMethod_Electronic check  \\\n",
       "0                                     False                            True   \n",
       "1                                     False                           False   \n",
       "2                                     False                           False   \n",
       "3                                     False                           False   \n",
       "4                                     False                            True   \n",
       "...                                     ...                             ...   \n",
       "7038                                  False                           False   \n",
       "7039                                   True                           False   \n",
       "7040                                  False                            True   \n",
       "7041                                  False                           False   \n",
       "7042                                  False                           False   \n",
       "\n",
       "      PaymentMethod_Mailed check  \n",
       "0                          False  \n",
       "1                           True  \n",
       "2                           True  \n",
       "3                          False  \n",
       "4                          False  \n",
       "...                          ...  \n",
       "7038                        True  \n",
       "7039                       False  \n",
       "7040                       False  \n",
       "7041                        True  \n",
       "7042                       False  \n",
       "\n",
       "[7032 rows x 27 columns]"
      ],
      "text/html": [
       "<div>\n",
       "<style scoped>\n",
       "    .dataframe tbody tr th:only-of-type {\n",
       "        vertical-align: middle;\n",
       "    }\n",
       "\n",
       "    .dataframe tbody tr th {\n",
       "        vertical-align: top;\n",
       "    }\n",
       "\n",
       "    .dataframe thead th {\n",
       "        text-align: right;\n",
       "    }\n",
       "</style>\n",
       "<table border=\"1\" class=\"dataframe\">\n",
       "  <thead>\n",
       "    <tr style=\"text-align: right;\">\n",
       "      <th></th>\n",
       "      <th>gender</th>\n",
       "      <th>SeniorCitizen</th>\n",
       "      <th>Partner</th>\n",
       "      <th>Dependents</th>\n",
       "      <th>tenure</th>\n",
       "      <th>PhoneService</th>\n",
       "      <th>MultipleLines</th>\n",
       "      <th>OnlineSecurity</th>\n",
       "      <th>OnlineBackup</th>\n",
       "      <th>DeviceProtection</th>\n",
       "      <th>...</th>\n",
       "      <th>InternetService_DSL</th>\n",
       "      <th>InternetService_Fiber optic</th>\n",
       "      <th>InternetService_No</th>\n",
       "      <th>Contract_Month-to-month</th>\n",
       "      <th>Contract_One year</th>\n",
       "      <th>Contract_Two year</th>\n",
       "      <th>PaymentMethod_Bank transfer (automatic)</th>\n",
       "      <th>PaymentMethod_Credit card (automatic)</th>\n",
       "      <th>PaymentMethod_Electronic check</th>\n",
       "      <th>PaymentMethod_Mailed check</th>\n",
       "    </tr>\n",
       "  </thead>\n",
       "  <tbody>\n",
       "    <tr>\n",
       "      <th>0</th>\n",
       "      <td>1</td>\n",
       "      <td>0</td>\n",
       "      <td>1</td>\n",
       "      <td>0</td>\n",
       "      <td>1</td>\n",
       "      <td>0</td>\n",
       "      <td>0</td>\n",
       "      <td>0</td>\n",
       "      <td>1</td>\n",
       "      <td>0</td>\n",
       "      <td>...</td>\n",
       "      <td>True</td>\n",
       "      <td>False</td>\n",
       "      <td>False</td>\n",
       "      <td>True</td>\n",
       "      <td>False</td>\n",
       "      <td>False</td>\n",
       "      <td>False</td>\n",
       "      <td>False</td>\n",
       "      <td>True</td>\n",
       "      <td>False</td>\n",
       "    </tr>\n",
       "    <tr>\n",
       "      <th>1</th>\n",
       "      <td>0</td>\n",
       "      <td>0</td>\n",
       "      <td>0</td>\n",
       "      <td>0</td>\n",
       "      <td>34</td>\n",
       "      <td>1</td>\n",
       "      <td>0</td>\n",
       "      <td>1</td>\n",
       "      <td>0</td>\n",
       "      <td>1</td>\n",
       "      <td>...</td>\n",
       "      <td>True</td>\n",
       "      <td>False</td>\n",
       "      <td>False</td>\n",
       "      <td>False</td>\n",
       "      <td>True</td>\n",
       "      <td>False</td>\n",
       "      <td>False</td>\n",
       "      <td>False</td>\n",
       "      <td>False</td>\n",
       "      <td>True</td>\n",
       "    </tr>\n",
       "    <tr>\n",
       "      <th>2</th>\n",
       "      <td>0</td>\n",
       "      <td>0</td>\n",
       "      <td>0</td>\n",
       "      <td>0</td>\n",
       "      <td>2</td>\n",
       "      <td>1</td>\n",
       "      <td>0</td>\n",
       "      <td>1</td>\n",
       "      <td>1</td>\n",
       "      <td>0</td>\n",
       "      <td>...</td>\n",
       "      <td>True</td>\n",
       "      <td>False</td>\n",
       "      <td>False</td>\n",
       "      <td>True</td>\n",
       "      <td>False</td>\n",
       "      <td>False</td>\n",
       "      <td>False</td>\n",
       "      <td>False</td>\n",
       "      <td>False</td>\n",
       "      <td>True</td>\n",
       "    </tr>\n",
       "    <tr>\n",
       "      <th>3</th>\n",
       "      <td>0</td>\n",
       "      <td>0</td>\n",
       "      <td>0</td>\n",
       "      <td>0</td>\n",
       "      <td>45</td>\n",
       "      <td>0</td>\n",
       "      <td>0</td>\n",
       "      <td>1</td>\n",
       "      <td>0</td>\n",
       "      <td>1</td>\n",
       "      <td>...</td>\n",
       "      <td>True</td>\n",
       "      <td>False</td>\n",
       "      <td>False</td>\n",
       "      <td>False</td>\n",
       "      <td>True</td>\n",
       "      <td>False</td>\n",
       "      <td>True</td>\n",
       "      <td>False</td>\n",
       "      <td>False</td>\n",
       "      <td>False</td>\n",
       "    </tr>\n",
       "    <tr>\n",
       "      <th>4</th>\n",
       "      <td>1</td>\n",
       "      <td>0</td>\n",
       "      <td>0</td>\n",
       "      <td>0</td>\n",
       "      <td>2</td>\n",
       "      <td>1</td>\n",
       "      <td>0</td>\n",
       "      <td>0</td>\n",
       "      <td>0</td>\n",
       "      <td>0</td>\n",
       "      <td>...</td>\n",
       "      <td>False</td>\n",
       "      <td>True</td>\n",
       "      <td>False</td>\n",
       "      <td>True</td>\n",
       "      <td>False</td>\n",
       "      <td>False</td>\n",
       "      <td>False</td>\n",
       "      <td>False</td>\n",
       "      <td>True</td>\n",
       "      <td>False</td>\n",
       "    </tr>\n",
       "    <tr>\n",
       "      <th>...</th>\n",
       "      <td>...</td>\n",
       "      <td>...</td>\n",
       "      <td>...</td>\n",
       "      <td>...</td>\n",
       "      <td>...</td>\n",
       "      <td>...</td>\n",
       "      <td>...</td>\n",
       "      <td>...</td>\n",
       "      <td>...</td>\n",
       "      <td>...</td>\n",
       "      <td>...</td>\n",
       "      <td>...</td>\n",
       "      <td>...</td>\n",
       "      <td>...</td>\n",
       "      <td>...</td>\n",
       "      <td>...</td>\n",
       "      <td>...</td>\n",
       "      <td>...</td>\n",
       "      <td>...</td>\n",
       "      <td>...</td>\n",
       "      <td>...</td>\n",
       "    </tr>\n",
       "    <tr>\n",
       "      <th>7038</th>\n",
       "      <td>0</td>\n",
       "      <td>0</td>\n",
       "      <td>1</td>\n",
       "      <td>1</td>\n",
       "      <td>24</td>\n",
       "      <td>1</td>\n",
       "      <td>1</td>\n",
       "      <td>1</td>\n",
       "      <td>0</td>\n",
       "      <td>1</td>\n",
       "      <td>...</td>\n",
       "      <td>True</td>\n",
       "      <td>False</td>\n",
       "      <td>False</td>\n",
       "      <td>False</td>\n",
       "      <td>True</td>\n",
       "      <td>False</td>\n",
       "      <td>False</td>\n",
       "      <td>False</td>\n",
       "      <td>False</td>\n",
       "      <td>True</td>\n",
       "    </tr>\n",
       "    <tr>\n",
       "      <th>7039</th>\n",
       "      <td>1</td>\n",
       "      <td>0</td>\n",
       "      <td>1</td>\n",
       "      <td>1</td>\n",
       "      <td>72</td>\n",
       "      <td>1</td>\n",
       "      <td>1</td>\n",
       "      <td>0</td>\n",
       "      <td>1</td>\n",
       "      <td>1</td>\n",
       "      <td>...</td>\n",
       "      <td>False</td>\n",
       "      <td>True</td>\n",
       "      <td>False</td>\n",
       "      <td>False</td>\n",
       "      <td>True</td>\n",
       "      <td>False</td>\n",
       "      <td>False</td>\n",
       "      <td>True</td>\n",
       "      <td>False</td>\n",
       "      <td>False</td>\n",
       "    </tr>\n",
       "    <tr>\n",
       "      <th>7040</th>\n",
       "      <td>1</td>\n",
       "      <td>0</td>\n",
       "      <td>1</td>\n",
       "      <td>1</td>\n",
       "      <td>11</td>\n",
       "      <td>0</td>\n",
       "      <td>0</td>\n",
       "      <td>1</td>\n",
       "      <td>0</td>\n",
       "      <td>0</td>\n",
       "      <td>...</td>\n",
       "      <td>True</td>\n",
       "      <td>False</td>\n",
       "      <td>False</td>\n",
       "      <td>True</td>\n",
       "      <td>False</td>\n",
       "      <td>False</td>\n",
       "      <td>False</td>\n",
       "      <td>False</td>\n",
       "      <td>True</td>\n",
       "      <td>False</td>\n",
       "    </tr>\n",
       "    <tr>\n",
       "      <th>7041</th>\n",
       "      <td>0</td>\n",
       "      <td>1</td>\n",
       "      <td>1</td>\n",
       "      <td>0</td>\n",
       "      <td>4</td>\n",
       "      <td>1</td>\n",
       "      <td>1</td>\n",
       "      <td>0</td>\n",
       "      <td>0</td>\n",
       "      <td>0</td>\n",
       "      <td>...</td>\n",
       "      <td>False</td>\n",
       "      <td>True</td>\n",
       "      <td>False</td>\n",
       "      <td>True</td>\n",
       "      <td>False</td>\n",
       "      <td>False</td>\n",
       "      <td>False</td>\n",
       "      <td>False</td>\n",
       "      <td>False</td>\n",
       "      <td>True</td>\n",
       "    </tr>\n",
       "    <tr>\n",
       "      <th>7042</th>\n",
       "      <td>0</td>\n",
       "      <td>0</td>\n",
       "      <td>0</td>\n",
       "      <td>0</td>\n",
       "      <td>66</td>\n",
       "      <td>1</td>\n",
       "      <td>0</td>\n",
       "      <td>1</td>\n",
       "      <td>0</td>\n",
       "      <td>1</td>\n",
       "      <td>...</td>\n",
       "      <td>False</td>\n",
       "      <td>True</td>\n",
       "      <td>False</td>\n",
       "      <td>False</td>\n",
       "      <td>False</td>\n",
       "      <td>True</td>\n",
       "      <td>True</td>\n",
       "      <td>False</td>\n",
       "      <td>False</td>\n",
       "      <td>False</td>\n",
       "    </tr>\n",
       "  </tbody>\n",
       "</table>\n",
       "<p>7032 rows × 27 columns</p>\n",
       "</div>"
      ]
     },
     "execution_count": 25,
     "metadata": {},
     "output_type": "execute_result"
    }
   ],
   "execution_count": 25
  },
  {
   "metadata": {
    "ExecuteTime": {
     "end_time": "2025-08-31T09:27:51.482277Z",
     "start_time": "2025-08-31T09:27:51.470753Z"
    }
   },
   "cell_type": "code",
   "source": "df2.dtypes",
   "id": "61c8e973c5865781",
   "outputs": [
    {
     "data": {
      "text/plain": [
       "gender                                       int64\n",
       "SeniorCitizen                                int64\n",
       "Partner                                      int64\n",
       "Dependents                                   int64\n",
       "tenure                                       int64\n",
       "PhoneService                                 int64\n",
       "MultipleLines                                int64\n",
       "OnlineSecurity                               int64\n",
       "OnlineBackup                                 int64\n",
       "DeviceProtection                             int64\n",
       "TechSupport                                  int64\n",
       "StreamingTV                                  int64\n",
       "StreamingMovies                              int64\n",
       "PaperlessBilling                             int64\n",
       "MonthlyCharges                             float64\n",
       "TotalCharges                               float64\n",
       "Churn                                        int64\n",
       "InternetService_DSL                           bool\n",
       "InternetService_Fiber optic                   bool\n",
       "InternetService_No                            bool\n",
       "Contract_Month-to-month                       bool\n",
       "Contract_One year                             bool\n",
       "Contract_Two year                             bool\n",
       "PaymentMethod_Bank transfer (automatic)       bool\n",
       "PaymentMethod_Credit card (automatic)         bool\n",
       "PaymentMethod_Electronic check                bool\n",
       "PaymentMethod_Mailed check                    bool\n",
       "dtype: object"
      ]
     },
     "execution_count": 26,
     "metadata": {},
     "output_type": "execute_result"
    }
   ],
   "execution_count": 26
  },
  {
   "metadata": {},
   "cell_type": "markdown",
   "source": "Here we have used `MinMaxScaler()` to change the values ranging from say`1 - 50` `1-2000` etc. between `0-1`.",
   "id": "b72dc3063ec8e795"
  },
  {
   "metadata": {
    "ExecuteTime": {
     "end_time": "2025-08-31T09:27:53.002076Z",
     "start_time": "2025-08-31T09:27:51.854921Z"
    }
   },
   "cell_type": "code",
   "source": [
    "cols_to_scale = ['tenure', 'MonthlyCharges', 'TotalCharges']\n",
    "\n",
    "from sklearn.preprocessing import MinMaxScaler\n",
    "scaler = MinMaxScaler()\n",
    "\n",
    "df2[cols_to_scale] = scaler.fit_transform(df2[cols_to_scale])"
   ],
   "id": "5092b0543b30d6bd",
   "outputs": [],
   "execution_count": 27
  },
  {
   "metadata": {
    "ExecuteTime": {
     "end_time": "2025-08-31T09:27:53.302434Z",
     "start_time": "2025-08-31T09:27:53.279071Z"
    }
   },
   "cell_type": "code",
   "source": "df2.sample(4)",
   "id": "10b01516c2c697c9",
   "outputs": [
    {
     "data": {
      "text/plain": [
       "      gender  SeniorCitizen  Partner  Dependents    tenure  PhoneService  \\\n",
       "142        1              0        1           0  0.845070             1   \n",
       "5330       0              1        1           0  0.126761             1   \n",
       "6343       0              0        0           0  0.521127             1   \n",
       "6342       0              0        1           0  0.647887             1   \n",
       "\n",
       "      MultipleLines  OnlineSecurity  OnlineBackup  DeviceProtection  ...  \\\n",
       "142               1               0             1                 0  ...   \n",
       "5330              0               0             1                 1  ...   \n",
       "6343              0               0             0                 0  ...   \n",
       "6342              1               0             1                 1  ...   \n",
       "\n",
       "      InternetService_DSL  InternetService_Fiber optic  InternetService_No  \\\n",
       "142                 False                         True               False   \n",
       "5330                False                         True               False   \n",
       "6343                False                        False                True   \n",
       "6342                False                         True               False   \n",
       "\n",
       "      Contract_Month-to-month  Contract_One year  Contract_Two year  \\\n",
       "142                     False              False               True   \n",
       "5330                     True              False              False   \n",
       "6343                    False               True              False   \n",
       "6342                     True              False              False   \n",
       "\n",
       "      PaymentMethod_Bank transfer (automatic)  \\\n",
       "142                                      True   \n",
       "5330                                    False   \n",
       "6343                                    False   \n",
       "6342                                    False   \n",
       "\n",
       "      PaymentMethod_Credit card (automatic)  PaymentMethod_Electronic check  \\\n",
       "142                                   False                           False   \n",
       "5330                                  False                           False   \n",
       "6343                                  False                           False   \n",
       "6342                                  False                            True   \n",
       "\n",
       "      PaymentMethod_Mailed check  \n",
       "142                        False  \n",
       "5330                        True  \n",
       "6343                        True  \n",
       "6342                       False  \n",
       "\n",
       "[4 rows x 27 columns]"
      ],
      "text/html": [
       "<div>\n",
       "<style scoped>\n",
       "    .dataframe tbody tr th:only-of-type {\n",
       "        vertical-align: middle;\n",
       "    }\n",
       "\n",
       "    .dataframe tbody tr th {\n",
       "        vertical-align: top;\n",
       "    }\n",
       "\n",
       "    .dataframe thead th {\n",
       "        text-align: right;\n",
       "    }\n",
       "</style>\n",
       "<table border=\"1\" class=\"dataframe\">\n",
       "  <thead>\n",
       "    <tr style=\"text-align: right;\">\n",
       "      <th></th>\n",
       "      <th>gender</th>\n",
       "      <th>SeniorCitizen</th>\n",
       "      <th>Partner</th>\n",
       "      <th>Dependents</th>\n",
       "      <th>tenure</th>\n",
       "      <th>PhoneService</th>\n",
       "      <th>MultipleLines</th>\n",
       "      <th>OnlineSecurity</th>\n",
       "      <th>OnlineBackup</th>\n",
       "      <th>DeviceProtection</th>\n",
       "      <th>...</th>\n",
       "      <th>InternetService_DSL</th>\n",
       "      <th>InternetService_Fiber optic</th>\n",
       "      <th>InternetService_No</th>\n",
       "      <th>Contract_Month-to-month</th>\n",
       "      <th>Contract_One year</th>\n",
       "      <th>Contract_Two year</th>\n",
       "      <th>PaymentMethod_Bank transfer (automatic)</th>\n",
       "      <th>PaymentMethod_Credit card (automatic)</th>\n",
       "      <th>PaymentMethod_Electronic check</th>\n",
       "      <th>PaymentMethod_Mailed check</th>\n",
       "    </tr>\n",
       "  </thead>\n",
       "  <tbody>\n",
       "    <tr>\n",
       "      <th>142</th>\n",
       "      <td>1</td>\n",
       "      <td>0</td>\n",
       "      <td>1</td>\n",
       "      <td>0</td>\n",
       "      <td>0.845070</td>\n",
       "      <td>1</td>\n",
       "      <td>1</td>\n",
       "      <td>0</td>\n",
       "      <td>1</td>\n",
       "      <td>0</td>\n",
       "      <td>...</td>\n",
       "      <td>False</td>\n",
       "      <td>True</td>\n",
       "      <td>False</td>\n",
       "      <td>False</td>\n",
       "      <td>False</td>\n",
       "      <td>True</td>\n",
       "      <td>True</td>\n",
       "      <td>False</td>\n",
       "      <td>False</td>\n",
       "      <td>False</td>\n",
       "    </tr>\n",
       "    <tr>\n",
       "      <th>5330</th>\n",
       "      <td>0</td>\n",
       "      <td>1</td>\n",
       "      <td>1</td>\n",
       "      <td>0</td>\n",
       "      <td>0.126761</td>\n",
       "      <td>1</td>\n",
       "      <td>0</td>\n",
       "      <td>0</td>\n",
       "      <td>1</td>\n",
       "      <td>1</td>\n",
       "      <td>...</td>\n",
       "      <td>False</td>\n",
       "      <td>True</td>\n",
       "      <td>False</td>\n",
       "      <td>True</td>\n",
       "      <td>False</td>\n",
       "      <td>False</td>\n",
       "      <td>False</td>\n",
       "      <td>False</td>\n",
       "      <td>False</td>\n",
       "      <td>True</td>\n",
       "    </tr>\n",
       "    <tr>\n",
       "      <th>6343</th>\n",
       "      <td>0</td>\n",
       "      <td>0</td>\n",
       "      <td>0</td>\n",
       "      <td>0</td>\n",
       "      <td>0.521127</td>\n",
       "      <td>1</td>\n",
       "      <td>0</td>\n",
       "      <td>0</td>\n",
       "      <td>0</td>\n",
       "      <td>0</td>\n",
       "      <td>...</td>\n",
       "      <td>False</td>\n",
       "      <td>False</td>\n",
       "      <td>True</td>\n",
       "      <td>False</td>\n",
       "      <td>True</td>\n",
       "      <td>False</td>\n",
       "      <td>False</td>\n",
       "      <td>False</td>\n",
       "      <td>False</td>\n",
       "      <td>True</td>\n",
       "    </tr>\n",
       "    <tr>\n",
       "      <th>6342</th>\n",
       "      <td>0</td>\n",
       "      <td>0</td>\n",
       "      <td>1</td>\n",
       "      <td>0</td>\n",
       "      <td>0.647887</td>\n",
       "      <td>1</td>\n",
       "      <td>1</td>\n",
       "      <td>0</td>\n",
       "      <td>1</td>\n",
       "      <td>1</td>\n",
       "      <td>...</td>\n",
       "      <td>False</td>\n",
       "      <td>True</td>\n",
       "      <td>False</td>\n",
       "      <td>True</td>\n",
       "      <td>False</td>\n",
       "      <td>False</td>\n",
       "      <td>False</td>\n",
       "      <td>False</td>\n",
       "      <td>True</td>\n",
       "      <td>False</td>\n",
       "    </tr>\n",
       "  </tbody>\n",
       "</table>\n",
       "<p>4 rows × 27 columns</p>\n",
       "</div>"
      ]
     },
     "execution_count": 28,
     "metadata": {},
     "output_type": "execute_result"
    }
   ],
   "execution_count": 28
  },
  {
   "metadata": {
    "ExecuteTime": {
     "end_time": "2025-08-31T09:27:53.624128Z",
     "start_time": "2025-08-31T09:27:53.606944Z"
    }
   },
   "cell_type": "code",
   "source": [
    "X = df2.drop('Churn', axis='columns')\n",
    "y = df2['Churn']"
   ],
   "id": "3d93159ab851e017",
   "outputs": [],
   "execution_count": 29
  },
  {
   "metadata": {
    "ExecuteTime": {
     "end_time": "2025-08-31T09:27:54.026711Z",
     "start_time": "2025-08-31T09:27:54.012345Z"
    }
   },
   "cell_type": "code",
   "source": "y.value_counts()",
   "id": "d8ef76cf1109a0f6",
   "outputs": [
    {
     "data": {
      "text/plain": [
       "Churn\n",
       "0    5163\n",
       "1    1869\n",
       "Name: count, dtype: int64"
      ]
     },
     "execution_count": 30,
     "metadata": {},
     "output_type": "execute_result"
    }
   ],
   "execution_count": 30
  },
  {
   "metadata": {
    "ExecuteTime": {
     "end_time": "2025-08-31T09:27:54.493886Z",
     "start_time": "2025-08-31T09:27:54.424032Z"
    }
   },
   "cell_type": "code",
   "source": [
    "from sklearn.model_selection import train_test_split\n",
    "X_train, X_test, y_train, y_test = train_test_split(X, y, test_size = 0.2, random_state = 42)"
   ],
   "id": "99d8737db319f324",
   "outputs": [],
   "execution_count": 31
  },
  {
   "metadata": {
    "ExecuteTime": {
     "end_time": "2025-08-31T09:27:54.843875Z",
     "start_time": "2025-08-31T09:27:54.835329Z"
    }
   },
   "cell_type": "code",
   "source": "X_train.shape",
   "id": "94e1bbc4d6184156",
   "outputs": [
    {
     "data": {
      "text/plain": [
       "(5625, 26)"
      ]
     },
     "execution_count": 32,
     "metadata": {},
     "output_type": "execute_result"
    }
   ],
   "execution_count": 32
  },
  {
   "metadata": {
    "ExecuteTime": {
     "end_time": "2025-08-31T09:27:55.122541Z",
     "start_time": "2025-08-31T09:27:55.114308Z"
    }
   },
   "cell_type": "code",
   "source": "X_test.shape",
   "id": "3414f4f55e75fca",
   "outputs": [
    {
     "data": {
      "text/plain": [
       "(1407, 26)"
      ]
     },
     "execution_count": 33,
     "metadata": {},
     "output_type": "execute_result"
    }
   ],
   "execution_count": 33
  },
  {
   "metadata": {
    "ExecuteTime": {
     "end_time": "2025-08-31T09:27:55.397298Z",
     "start_time": "2025-08-31T09:27:55.392229Z"
    }
   },
   "cell_type": "code",
   "source": "y_train.shape",
   "id": "f89f60f62c8139c3",
   "outputs": [
    {
     "data": {
      "text/plain": [
       "(5625,)"
      ]
     },
     "execution_count": 34,
     "metadata": {},
     "output_type": "execute_result"
    }
   ],
   "execution_count": 34
  },
  {
   "metadata": {
    "ExecuteTime": {
     "end_time": "2025-08-31T09:27:55.636134Z",
     "start_time": "2025-08-31T09:27:55.627394Z"
    }
   },
   "cell_type": "code",
   "source": "len(X_train.columns)",
   "id": "69146f329e841f7b",
   "outputs": [
    {
     "data": {
      "text/plain": [
       "26"
      ]
     },
     "execution_count": 35,
     "metadata": {},
     "output_type": "execute_result"
    }
   ],
   "execution_count": 35
  },
  {
   "metadata": {
    "ExecuteTime": {
     "end_time": "2025-08-31T09:27:55.927724Z",
     "start_time": "2025-08-31T09:27:55.919912Z"
    }
   },
   "cell_type": "code",
   "source": "type(X_train)",
   "id": "9e559b4a5b5b662d",
   "outputs": [
    {
     "data": {
      "text/plain": [
       "pandas.core.frame.DataFrame"
      ]
     },
     "execution_count": 36,
     "metadata": {},
     "output_type": "execute_result"
    }
   ],
   "execution_count": 36
  },
  {
   "metadata": {
    "ExecuteTime": {
     "end_time": "2025-08-31T09:27:56.197873Z",
     "start_time": "2025-08-31T09:27:56.189248Z"
    }
   },
   "cell_type": "code",
   "source": "X_train.dtypes",
   "id": "52ccaef868d3f30",
   "outputs": [
    {
     "data": {
      "text/plain": [
       "gender                                       int64\n",
       "SeniorCitizen                                int64\n",
       "Partner                                      int64\n",
       "Dependents                                   int64\n",
       "tenure                                     float64\n",
       "PhoneService                                 int64\n",
       "MultipleLines                                int64\n",
       "OnlineSecurity                               int64\n",
       "OnlineBackup                                 int64\n",
       "DeviceProtection                             int64\n",
       "TechSupport                                  int64\n",
       "StreamingTV                                  int64\n",
       "StreamingMovies                              int64\n",
       "PaperlessBilling                             int64\n",
       "MonthlyCharges                             float64\n",
       "TotalCharges                               float64\n",
       "InternetService_DSL                           bool\n",
       "InternetService_Fiber optic                   bool\n",
       "InternetService_No                            bool\n",
       "Contract_Month-to-month                       bool\n",
       "Contract_One year                             bool\n",
       "Contract_Two year                             bool\n",
       "PaymentMethod_Bank transfer (automatic)       bool\n",
       "PaymentMethod_Credit card (automatic)         bool\n",
       "PaymentMethod_Electronic check                bool\n",
       "PaymentMethod_Mailed check                    bool\n",
       "dtype: object"
      ]
     },
     "execution_count": 37,
     "metadata": {},
     "output_type": "execute_result"
    }
   ],
   "execution_count": 37
  },
  {
   "metadata": {
    "ExecuteTime": {
     "end_time": "2025-08-31T09:27:56.444748Z",
     "start_time": "2025-08-31T09:27:56.434128Z"
    }
   },
   "cell_type": "code",
   "source": "",
   "id": "48ca37fad615c5e2",
   "outputs": [],
   "execution_count": null
  },
  {
   "metadata": {},
   "cell_type": "markdown",
   "source": "Converting data into TENSOR",
   "id": "d69906df261d1610"
  },
  {
   "metadata": {
    "ExecuteTime": {
     "end_time": "2025-08-31T09:27:56.832766Z",
     "start_time": "2025-08-31T09:27:56.822193Z"
    }
   },
   "cell_type": "code",
   "source": [
    "X_train_type = X_train.astype('float32')\n",
    "y_train_type = y_train.astype('float32')\n",
    "\n",
    "X_test_type = X_test.astype('float32')\n",
    "y_test_type = y_test.astype('float32')"
   ],
   "id": "917eb18895456020",
   "outputs": [],
   "execution_count": 38
  },
  {
   "metadata": {
    "ExecuteTime": {
     "end_time": "2025-08-31T09:27:57.086319Z",
     "start_time": "2025-08-31T09:27:57.078533Z"
    }
   },
   "cell_type": "code",
   "source": "X_train_type.dtypes",
   "id": "db17ab0710eed4d3",
   "outputs": [
    {
     "data": {
      "text/plain": [
       "gender                                     float32\n",
       "SeniorCitizen                              float32\n",
       "Partner                                    float32\n",
       "Dependents                                 float32\n",
       "tenure                                     float32\n",
       "PhoneService                               float32\n",
       "MultipleLines                              float32\n",
       "OnlineSecurity                             float32\n",
       "OnlineBackup                               float32\n",
       "DeviceProtection                           float32\n",
       "TechSupport                                float32\n",
       "StreamingTV                                float32\n",
       "StreamingMovies                            float32\n",
       "PaperlessBilling                           float32\n",
       "MonthlyCharges                             float32\n",
       "TotalCharges                               float32\n",
       "InternetService_DSL                        float32\n",
       "InternetService_Fiber optic                float32\n",
       "InternetService_No                         float32\n",
       "Contract_Month-to-month                    float32\n",
       "Contract_One year                          float32\n",
       "Contract_Two year                          float32\n",
       "PaymentMethod_Bank transfer (automatic)    float32\n",
       "PaymentMethod_Credit card (automatic)      float32\n",
       "PaymentMethod_Electronic check             float32\n",
       "PaymentMethod_Mailed check                 float32\n",
       "dtype: object"
      ]
     },
     "execution_count": 39,
     "metadata": {},
     "output_type": "execute_result"
    }
   ],
   "execution_count": 39
  },
  {
   "metadata": {
    "ExecuteTime": {
     "end_time": "2025-08-31T09:27:57.376981Z",
     "start_time": "2025-08-31T09:27:57.351252Z"
    }
   },
   "cell_type": "code",
   "source": [
    "X_train_tensor = torch.tensor(X_train_type.values, dtype = torch.float32)\n",
    "y_train_tensor = torch.tensor(y_train_type.values, dtype = torch.float32)\n",
    "\n",
    "X_test_tensor = torch.tensor(X_test_type.values, dtype = torch.float32)\n",
    "y_test_tensor = torch.tensor(y_test_type.values, dtype = torch.float32)"
   ],
   "id": "256d737ed8e21831",
   "outputs": [],
   "execution_count": 40
  },
  {
   "metadata": {},
   "cell_type": "markdown",
   "source": "### Creating dataset and dataloader",
   "id": "c9df992c156b6a55"
  },
  {
   "metadata": {
    "ExecuteTime": {
     "end_time": "2025-08-31T09:27:57.746041Z",
     "start_time": "2025-08-31T09:27:57.733550Z"
    }
   },
   "cell_type": "code",
   "source": "X_train_tensor.shape, y_train_tensor.shape",
   "id": "92fa3637977c4015",
   "outputs": [
    {
     "data": {
      "text/plain": [
       "(torch.Size([5625, 26]), torch.Size([5625]))"
      ]
     },
     "execution_count": 41,
     "metadata": {},
     "output_type": "execute_result"
    }
   ],
   "execution_count": 41
  },
  {
   "metadata": {
    "ExecuteTime": {
     "end_time": "2025-08-31T09:27:58.146744Z",
     "start_time": "2025-08-31T09:27:58.139756Z"
    }
   },
   "cell_type": "code",
   "source": "X_test_tensor.shape, y_test_tensor.shape",
   "id": "c2038acade3adb6c",
   "outputs": [
    {
     "data": {
      "text/plain": [
       "(torch.Size([1407, 26]), torch.Size([1407]))"
      ]
     },
     "execution_count": 42,
     "metadata": {},
     "output_type": "execute_result"
    }
   ],
   "execution_count": 42
  },
  {
   "metadata": {
    "ExecuteTime": {
     "end_time": "2025-08-31T09:27:58.387965Z",
     "start_time": "2025-08-31T09:27:58.378563Z"
    }
   },
   "cell_type": "code",
   "source": [
    "from torch.utils.data import TensorDataset, DataLoader\n",
    "\n",
    "y_train_tensor = y_train_tensor.view(-1, 1)\n",
    "y_test_tensor = y_test_tensor.view(-1, 1)\n",
    "\n",
    "# Creating DATASET\n",
    "train_dataset = TensorDataset(X_train_tensor, y_train_tensor)\n",
    "test_dataset = TensorDataset(X_test_tensor, y_test_tensor)\n",
    "\n",
    "# Creating DATALOADER\n",
    "train_dataloader = DataLoader(train_dataset, batch_size = 64, shuffle = True)\n",
    "test_dataloader = DataLoader(test_dataset, batch_size  = 64)"
   ],
   "id": "e42f0deb11a5f8c9",
   "outputs": [],
   "execution_count": 43
  },
  {
   "metadata": {
    "ExecuteTime": {
     "end_time": "2025-08-31T09:27:58.563956Z",
     "start_time": "2025-08-31T09:27:58.555618Z"
    }
   },
   "cell_type": "code",
   "source": "X_train_tensor.shape, y_train_tensor.shape",
   "id": "bf6e46252efd2baa",
   "outputs": [
    {
     "data": {
      "text/plain": [
       "(torch.Size([5625, 26]), torch.Size([5625, 1]))"
      ]
     },
     "execution_count": 44,
     "metadata": {},
     "output_type": "execute_result"
    }
   ],
   "execution_count": 44
  },
  {
   "metadata": {
    "ExecuteTime": {
     "end_time": "2025-08-31T09:27:58.727226Z",
     "start_time": "2025-08-31T09:27:58.720569Z"
    }
   },
   "cell_type": "code",
   "source": "len(X_train_tensor), len(train_dataloader)",
   "id": "61818bf76595e4d7",
   "outputs": [
    {
     "data": {
      "text/plain": [
       "(5625, 88)"
      ]
     },
     "execution_count": 45,
     "metadata": {},
     "output_type": "execute_result"
    }
   ],
   "execution_count": 45
  },
  {
   "metadata": {
    "ExecuteTime": {
     "end_time": "2025-08-31T09:27:58.924635Z",
     "start_time": "2025-08-31T09:27:58.917440Z"
    }
   },
   "cell_type": "code",
   "source": [
    "class Churn_Pred(nn.Module):\n",
    "    def __init__(self, input_dim):\n",
    "        super().__init__()\n",
    "        self.net = nn.Sequential(\n",
    "            nn.Linear(input_dim, 64),\n",
    "            nn.ReLU(),\n",
    "            nn.Dropout(0.3),\n",
    "            nn.Linear(64, 32),\n",
    "            nn.ReLU(),\n",
    "            nn.Dropout(0.3),\n",
    "            nn.Linear(32, 1)\n",
    "        )\n",
    "\n",
    "    def forward(self, x):\n",
    "        return self.net(x)"
   ],
   "id": "75bfdf4e5a5d6552",
   "outputs": [],
   "execution_count": 46
  },
  {
   "metadata": {
    "ExecuteTime": {
     "end_time": "2025-08-31T09:27:59.297149Z",
     "start_time": "2025-08-31T09:27:59.122191Z"
    }
   },
   "cell_type": "code",
   "source": [
    "input_dim = X_train_tensor.shape[1]\n",
    "model = Churn_Pred(input_dim)\n",
    "model.to(device)\n",
    "model"
   ],
   "id": "801e3417a5a65fb",
   "outputs": [
    {
     "data": {
      "text/plain": [
       "Churn_Pred(\n",
       "  (net): Sequential(\n",
       "    (0): Linear(in_features=26, out_features=64, bias=True)\n",
       "    (1): ReLU()\n",
       "    (2): Dropout(p=0.3, inplace=False)\n",
       "    (3): Linear(in_features=64, out_features=32, bias=True)\n",
       "    (4): ReLU()\n",
       "    (5): Dropout(p=0.3, inplace=False)\n",
       "    (6): Linear(in_features=32, out_features=1, bias=True)\n",
       "  )\n",
       ")"
      ]
     },
     "execution_count": 47,
     "metadata": {},
     "output_type": "execute_result"
    }
   ],
   "execution_count": 47
  },
  {
   "metadata": {
    "ExecuteTime": {
     "end_time": "2025-08-31T09:28:01.215702Z",
     "start_time": "2025-08-31T09:27:59.459314Z"
    }
   },
   "cell_type": "code",
   "source": [
    "loss_fn = nn.BCEWithLogitsLoss()\n",
    "optimizer = torch.optim.SGD(params = model.parameters(), lr = 0.01)\n",
    "\n",
    "def accuracy_fn(y_true, y_pred_logits):\n",
    "    y_pred_probs = torch.sigmoid(y_pred_logits)\n",
    "    y_pred = torch.round(y_pred_probs)\n",
    "\n",
    "    correct = (y_true == y_pred).sum().item()\n",
    "    acc = correct / len(y_true) * 100\n",
    "    return acc\n"
   ],
   "id": "eadd4e15649261c1",
   "outputs": [],
   "execution_count": 48
  },
  {
   "metadata": {
    "ExecuteTime": {
     "end_time": "2025-08-31T09:35:13.090298Z",
     "start_time": "2025-08-31T09:34:36.772848Z"
    }
   },
   "cell_type": "code",
   "source": [
    "Epochs = 100\n",
    "\n",
    "train_losses, test_losses = [], []\n",
    "\n",
    "for epoch in range(Epochs):\n",
    "    model.train()\n",
    "    batch_train_losses = []\n",
    "\n",
    "    for batch, (X, y) in enumerate(train_dataloader):\n",
    "        X, y = X.to(device), y.to(device)\n",
    "        y_logits = model(X)\n",
    "\n",
    "        loss = loss_fn(y_logits, y)\n",
    "        acc = accuracy_fn(y_true = y, y_pred_logits = y_logits)\n",
    "\n",
    "        optimizer.zero_grad()\n",
    "        loss.backward()\n",
    "        optimizer.step()\n",
    "\n",
    "        batch_train_losses.append(loss.item())\n",
    "\n",
    "    train_losses.append(sum(batch_train_losses)/len(batch_train_losses))\n",
    "\n",
    "    model.eval()\n",
    "    batch_test_losses = []\n",
    "    with torch.inference_mode():\n",
    "        for batch, (X, y) in enumerate(test_dataloader):\n",
    "            X, y = X.to(device), y.to(device)\n",
    "\n",
    "            test_pred_logits = model(X)\n",
    "            test_loss = loss_fn(test_pred_logits,y)\n",
    "            test_acc = accuracy_fn(y_true = y, y_pred_logits = test_pred_logits)\n",
    "\n",
    "            batch_test_losses.append(test_loss.item())\n",
    "\n",
    "    test_losses.append(sum(batch_test_losses)/len(batch_test_losses))\n",
    "\n",
    "    if epoch % 1 == 0:\n",
    "        print(f\"Number of Epochs : {epoch} | Train Loss : {loss: .5f} | Train Accuracy : {acc: .2f}% | Test loss : {test_loss: .5f} | Test Accuracy: {test_acc: .2f}%\")"
   ],
   "id": "f07e1d30cb53912",
   "outputs": [
    {
     "name": "stdout",
     "output_type": "stream",
     "text": [
      "Number of Epochs : 0 | Train Loss :  0.45319 | Train Accuracy :  77.19% | Test loss :  0.43246 | Test Accuracy:  76.19%\n",
      "Number of Epochs : 1 | Train Loss :  0.51785 | Train Accuracy :  77.19% | Test loss :  0.43332 | Test Accuracy:  76.19%\n",
      "Number of Epochs : 2 | Train Loss :  0.42426 | Train Accuracy :  77.19% | Test loss :  0.43537 | Test Accuracy:  76.19%\n",
      "Number of Epochs : 3 | Train Loss :  0.33416 | Train Accuracy :  84.21% | Test loss :  0.43472 | Test Accuracy:  76.19%\n",
      "Number of Epochs : 4 | Train Loss :  0.34260 | Train Accuracy :  85.96% | Test loss :  0.43494 | Test Accuracy:  76.19%\n",
      "Number of Epochs : 5 | Train Loss :  0.40173 | Train Accuracy :  84.21% | Test loss :  0.43433 | Test Accuracy:  76.19%\n",
      "Number of Epochs : 6 | Train Loss :  0.44658 | Train Accuracy :  82.46% | Test loss :  0.43354 | Test Accuracy:  76.19%\n",
      "Number of Epochs : 7 | Train Loss :  0.55069 | Train Accuracy :  78.95% | Test loss :  0.43624 | Test Accuracy:  76.19%\n",
      "Number of Epochs : 8 | Train Loss :  0.39251 | Train Accuracy :  84.21% | Test loss :  0.43429 | Test Accuracy:  76.19%\n",
      "Number of Epochs : 9 | Train Loss :  0.45236 | Train Accuracy :  80.70% | Test loss :  0.43494 | Test Accuracy:  76.19%\n",
      "Number of Epochs : 10 | Train Loss :  0.36056 | Train Accuracy :  80.70% | Test loss :  0.43354 | Test Accuracy:  76.19%\n",
      "Number of Epochs : 11 | Train Loss :  0.42332 | Train Accuracy :  82.46% | Test loss :  0.43256 | Test Accuracy:  76.19%\n",
      "Number of Epochs : 12 | Train Loss :  0.39722 | Train Accuracy :  80.70% | Test loss :  0.43434 | Test Accuracy:  76.19%\n",
      "Number of Epochs : 13 | Train Loss :  0.47609 | Train Accuracy :  77.19% | Test loss :  0.43295 | Test Accuracy:  76.19%\n",
      "Number of Epochs : 14 | Train Loss :  0.38223 | Train Accuracy :  80.70% | Test loss :  0.43402 | Test Accuracy:  77.78%\n",
      "Number of Epochs : 15 | Train Loss :  0.36774 | Train Accuracy :  80.70% | Test loss :  0.43422 | Test Accuracy:  76.19%\n",
      "Number of Epochs : 16 | Train Loss :  0.46047 | Train Accuracy :  78.95% | Test loss :  0.43336 | Test Accuracy:  76.19%\n",
      "Number of Epochs : 17 | Train Loss :  0.34986 | Train Accuracy :  85.96% | Test loss :  0.43379 | Test Accuracy:  76.19%\n",
      "Number of Epochs : 18 | Train Loss :  0.43397 | Train Accuracy :  80.70% | Test loss :  0.43496 | Test Accuracy:  77.78%\n",
      "Number of Epochs : 19 | Train Loss :  0.33824 | Train Accuracy :  85.96% | Test loss :  0.43610 | Test Accuracy:  77.78%\n",
      "Number of Epochs : 20 | Train Loss :  0.41356 | Train Accuracy :  80.70% | Test loss :  0.43471 | Test Accuracy:  76.19%\n",
      "Number of Epochs : 21 | Train Loss :  0.38893 | Train Accuracy :  84.21% | Test loss :  0.43297 | Test Accuracy:  76.19%\n",
      "Number of Epochs : 22 | Train Loss :  0.37901 | Train Accuracy :  84.21% | Test loss :  0.43296 | Test Accuracy:  76.19%\n",
      "Number of Epochs : 23 | Train Loss :  0.40546 | Train Accuracy :  77.19% | Test loss :  0.43487 | Test Accuracy:  77.78%\n",
      "Number of Epochs : 24 | Train Loss :  0.41914 | Train Accuracy :  82.46% | Test loss :  0.43493 | Test Accuracy:  77.78%\n",
      "Number of Epochs : 25 | Train Loss :  0.45095 | Train Accuracy :  77.19% | Test loss :  0.43631 | Test Accuracy:  77.78%\n",
      "Number of Epochs : 26 | Train Loss :  0.40784 | Train Accuracy :  84.21% | Test loss :  0.43370 | Test Accuracy:  76.19%\n",
      "Number of Epochs : 27 | Train Loss :  0.53197 | Train Accuracy :  73.68% | Test loss :  0.43375 | Test Accuracy:  77.78%\n",
      "Number of Epochs : 28 | Train Loss :  0.43622 | Train Accuracy :  85.96% | Test loss :  0.43289 | Test Accuracy:  77.78%\n",
      "Number of Epochs : 29 | Train Loss :  0.42745 | Train Accuracy :  85.96% | Test loss :  0.43510 | Test Accuracy:  77.78%\n",
      "Number of Epochs : 30 | Train Loss :  0.44544 | Train Accuracy :  80.70% | Test loss :  0.43292 | Test Accuracy:  77.78%\n",
      "Number of Epochs : 31 | Train Loss :  0.35093 | Train Accuracy :  84.21% | Test loss :  0.43358 | Test Accuracy:  77.78%\n",
      "Number of Epochs : 32 | Train Loss :  0.32377 | Train Accuracy :  85.96% | Test loss :  0.43454 | Test Accuracy:  77.78%\n",
      "Number of Epochs : 33 | Train Loss :  0.37253 | Train Accuracy :  80.70% | Test loss :  0.43394 | Test Accuracy:  77.78%\n",
      "Number of Epochs : 34 | Train Loss :  0.49800 | Train Accuracy :  77.19% | Test loss :  0.43309 | Test Accuracy:  77.78%\n",
      "Number of Epochs : 35 | Train Loss :  0.37568 | Train Accuracy :  89.47% | Test loss :  0.43353 | Test Accuracy:  77.78%\n",
      "Number of Epochs : 36 | Train Loss :  0.42257 | Train Accuracy :  77.19% | Test loss :  0.43474 | Test Accuracy:  77.78%\n",
      "Number of Epochs : 37 | Train Loss :  0.40555 | Train Accuracy :  82.46% | Test loss :  0.43408 | Test Accuracy:  77.78%\n",
      "Number of Epochs : 38 | Train Loss :  0.47948 | Train Accuracy :  71.93% | Test loss :  0.43433 | Test Accuracy:  77.78%\n",
      "Number of Epochs : 39 | Train Loss :  0.33790 | Train Accuracy :  82.46% | Test loss :  0.43382 | Test Accuracy:  77.78%\n",
      "Number of Epochs : 40 | Train Loss :  0.45565 | Train Accuracy :  80.70% | Test loss :  0.43377 | Test Accuracy:  77.78%\n",
      "Number of Epochs : 41 | Train Loss :  0.39342 | Train Accuracy :  78.95% | Test loss :  0.43274 | Test Accuracy:  77.78%\n",
      "Number of Epochs : 42 | Train Loss :  0.39424 | Train Accuracy :  77.19% | Test loss :  0.43336 | Test Accuracy:  77.78%\n",
      "Number of Epochs : 43 | Train Loss :  0.39313 | Train Accuracy :  82.46% | Test loss :  0.43294 | Test Accuracy:  77.78%\n",
      "Number of Epochs : 44 | Train Loss :  0.48485 | Train Accuracy :  71.93% | Test loss :  0.43218 | Test Accuracy:  77.78%\n",
      "Number of Epochs : 45 | Train Loss :  0.32497 | Train Accuracy :  91.23% | Test loss :  0.43380 | Test Accuracy:  77.78%\n",
      "Number of Epochs : 46 | Train Loss :  0.46323 | Train Accuracy :  77.19% | Test loss :  0.43400 | Test Accuracy:  77.78%\n",
      "Number of Epochs : 47 | Train Loss :  0.34310 | Train Accuracy :  82.46% | Test loss :  0.43488 | Test Accuracy:  77.78%\n",
      "Number of Epochs : 48 | Train Loss :  0.42678 | Train Accuracy :  80.70% | Test loss :  0.43438 | Test Accuracy:  77.78%\n",
      "Number of Epochs : 49 | Train Loss :  0.40836 | Train Accuracy :  82.46% | Test loss :  0.43522 | Test Accuracy:  77.78%\n",
      "Number of Epochs : 50 | Train Loss :  0.49782 | Train Accuracy :  75.44% | Test loss :  0.43547 | Test Accuracy:  77.78%\n",
      "Number of Epochs : 51 | Train Loss :  0.32772 | Train Accuracy :  85.96% | Test loss :  0.43547 | Test Accuracy:  77.78%\n",
      "Number of Epochs : 52 | Train Loss :  0.58687 | Train Accuracy :  73.68% | Test loss :  0.43508 | Test Accuracy:  77.78%\n",
      "Number of Epochs : 53 | Train Loss :  0.45400 | Train Accuracy :  80.70% | Test loss :  0.43420 | Test Accuracy:  77.78%\n",
      "Number of Epochs : 54 | Train Loss :  0.42612 | Train Accuracy :  85.96% | Test loss :  0.43612 | Test Accuracy:  77.78%\n",
      "Number of Epochs : 55 | Train Loss :  0.50112 | Train Accuracy :  80.70% | Test loss :  0.43519 | Test Accuracy:  77.78%\n",
      "Number of Epochs : 56 | Train Loss :  0.36234 | Train Accuracy :  82.46% | Test loss :  0.43438 | Test Accuracy:  77.78%\n",
      "Number of Epochs : 57 | Train Loss :  0.45210 | Train Accuracy :  78.95% | Test loss :  0.43396 | Test Accuracy:  77.78%\n",
      "Number of Epochs : 58 | Train Loss :  0.43971 | Train Accuracy :  77.19% | Test loss :  0.43377 | Test Accuracy:  77.78%\n",
      "Number of Epochs : 59 | Train Loss :  0.35773 | Train Accuracy :  82.46% | Test loss :  0.43489 | Test Accuracy:  77.78%\n",
      "Number of Epochs : 60 | Train Loss :  0.39058 | Train Accuracy :  78.95% | Test loss :  0.43297 | Test Accuracy:  77.78%\n",
      "Number of Epochs : 61 | Train Loss :  0.61738 | Train Accuracy :  73.68% | Test loss :  0.43552 | Test Accuracy:  77.78%\n",
      "Number of Epochs : 62 | Train Loss :  0.38250 | Train Accuracy :  80.70% | Test loss :  0.43254 | Test Accuracy:  77.78%\n",
      "Number of Epochs : 63 | Train Loss :  0.27876 | Train Accuracy :  89.47% | Test loss :  0.43423 | Test Accuracy:  77.78%\n",
      "Number of Epochs : 64 | Train Loss :  0.44272 | Train Accuracy :  82.46% | Test loss :  0.43293 | Test Accuracy:  77.78%\n",
      "Number of Epochs : 65 | Train Loss :  0.45033 | Train Accuracy :  78.95% | Test loss :  0.43437 | Test Accuracy:  77.78%\n",
      "Number of Epochs : 66 | Train Loss :  0.38159 | Train Accuracy :  84.21% | Test loss :  0.43462 | Test Accuracy:  77.78%\n",
      "Number of Epochs : 67 | Train Loss :  0.49024 | Train Accuracy :  70.18% | Test loss :  0.43407 | Test Accuracy:  77.78%\n",
      "Number of Epochs : 68 | Train Loss :  0.50079 | Train Accuracy :  71.93% | Test loss :  0.43481 | Test Accuracy:  77.78%\n",
      "Number of Epochs : 69 | Train Loss :  0.33690 | Train Accuracy :  85.96% | Test loss :  0.43347 | Test Accuracy:  77.78%\n",
      "Number of Epochs : 70 | Train Loss :  0.45293 | Train Accuracy :  73.68% | Test loss :  0.43663 | Test Accuracy:  77.78%\n",
      "Number of Epochs : 71 | Train Loss :  0.35379 | Train Accuracy :  84.21% | Test loss :  0.43526 | Test Accuracy:  77.78%\n",
      "Number of Epochs : 72 | Train Loss :  0.42075 | Train Accuracy :  77.19% | Test loss :  0.43487 | Test Accuracy:  77.78%\n",
      "Number of Epochs : 73 | Train Loss :  0.46238 | Train Accuracy :  75.44% | Test loss :  0.43775 | Test Accuracy:  77.78%\n",
      "Number of Epochs : 74 | Train Loss :  0.43221 | Train Accuracy :  77.19% | Test loss :  0.43528 | Test Accuracy:  77.78%\n",
      "Number of Epochs : 75 | Train Loss :  0.36266 | Train Accuracy :  78.95% | Test loss :  0.43618 | Test Accuracy:  77.78%\n",
      "Number of Epochs : 76 | Train Loss :  0.50579 | Train Accuracy :  75.44% | Test loss :  0.43397 | Test Accuracy:  77.78%\n",
      "Number of Epochs : 77 | Train Loss :  0.47838 | Train Accuracy :  80.70% | Test loss :  0.43761 | Test Accuracy:  77.78%\n",
      "Number of Epochs : 78 | Train Loss :  0.38150 | Train Accuracy :  77.19% | Test loss :  0.43551 | Test Accuracy:  77.78%\n",
      "Number of Epochs : 79 | Train Loss :  0.46698 | Train Accuracy :  77.19% | Test loss :  0.43687 | Test Accuracy:  77.78%\n",
      "Number of Epochs : 80 | Train Loss :  0.43147 | Train Accuracy :  80.70% | Test loss :  0.43775 | Test Accuracy:  77.78%\n",
      "Number of Epochs : 81 | Train Loss :  0.45776 | Train Accuracy :  80.70% | Test loss :  0.43626 | Test Accuracy:  77.78%\n",
      "Number of Epochs : 82 | Train Loss :  0.37596 | Train Accuracy :  82.46% | Test loss :  0.43555 | Test Accuracy:  77.78%\n",
      "Number of Epochs : 83 | Train Loss :  0.30752 | Train Accuracy :  84.21% | Test loss :  0.43351 | Test Accuracy:  77.78%\n",
      "Number of Epochs : 84 | Train Loss :  0.49011 | Train Accuracy :  75.44% | Test loss :  0.43538 | Test Accuracy:  77.78%\n",
      "Number of Epochs : 85 | Train Loss :  0.48351 | Train Accuracy :  75.44% | Test loss :  0.43602 | Test Accuracy:  77.78%\n",
      "Number of Epochs : 86 | Train Loss :  0.34832 | Train Accuracy :  80.70% | Test loss :  0.43609 | Test Accuracy:  77.78%\n",
      "Number of Epochs : 87 | Train Loss :  0.31327 | Train Accuracy :  85.96% | Test loss :  0.43608 | Test Accuracy:  77.78%\n",
      "Number of Epochs : 88 | Train Loss :  0.37112 | Train Accuracy :  89.47% | Test loss :  0.43447 | Test Accuracy:  77.78%\n",
      "Number of Epochs : 89 | Train Loss :  0.42918 | Train Accuracy :  78.95% | Test loss :  0.43489 | Test Accuracy:  77.78%\n",
      "Number of Epochs : 90 | Train Loss :  0.41316 | Train Accuracy :  80.70% | Test loss :  0.43525 | Test Accuracy:  77.78%\n",
      "Number of Epochs : 91 | Train Loss :  0.63032 | Train Accuracy :  66.67% | Test loss :  0.43524 | Test Accuracy:  77.78%\n",
      "Number of Epochs : 92 | Train Loss :  0.42423 | Train Accuracy :  73.68% | Test loss :  0.43653 | Test Accuracy:  77.78%\n",
      "Number of Epochs : 93 | Train Loss :  0.37722 | Train Accuracy :  82.46% | Test loss :  0.43464 | Test Accuracy:  77.78%\n",
      "Number of Epochs : 94 | Train Loss :  0.50761 | Train Accuracy :  77.19% | Test loss :  0.43438 | Test Accuracy:  77.78%\n",
      "Number of Epochs : 95 | Train Loss :  0.35194 | Train Accuracy :  82.46% | Test loss :  0.43478 | Test Accuracy:  77.78%\n",
      "Number of Epochs : 96 | Train Loss :  0.40720 | Train Accuracy :  87.72% | Test loss :  0.43545 | Test Accuracy:  77.78%\n",
      "Number of Epochs : 97 | Train Loss :  0.30297 | Train Accuracy :  89.47% | Test loss :  0.43436 | Test Accuracy:  77.78%\n",
      "Number of Epochs : 98 | Train Loss :  0.61897 | Train Accuracy :  77.19% | Test loss :  0.43524 | Test Accuracy:  77.78%\n",
      "Number of Epochs : 99 | Train Loss :  0.38851 | Train Accuracy :  77.19% | Test loss :  0.43564 | Test Accuracy:  77.78%\n"
     ]
    }
   ],
   "execution_count": 53
  },
  {
   "metadata": {
    "ExecuteTime": {
     "end_time": "2025-08-31T09:28:37.789650Z",
     "start_time": "2025-08-31T09:28:37.279145Z"
    }
   },
   "cell_type": "code",
   "source": [
    "from sklearn.metrics import classification_report, roc_auc_score\n",
    "\n",
    "y_true = y.cpu().numpy()\n",
    "y_pred_probs = torch.sigmoid(y_logits).cpu().numpy()\n",
    "y_pred = (y_pred_probs > 0.5).astype(int)\n",
    "\n",
    "print(classification_report(y_true, y_pred))\n",
    "print(\"ROC-AUC:\", roc_auc_score(y_true, y_pred_probs))"
   ],
   "id": "73ae8367517e45be",
   "outputs": [
    {
     "ename": "RuntimeError",
     "evalue": "Can't call numpy() on Tensor that requires grad. Use tensor.detach().numpy() instead.",
     "output_type": "error",
     "traceback": [
      "\u001B[31m---------------------------------------------------------------------------\u001B[39m",
      "\u001B[31mRuntimeError\u001B[39m                              Traceback (most recent call last)",
      "\u001B[36mCell\u001B[39m\u001B[36m \u001B[39m\u001B[32mIn[50]\u001B[39m\u001B[32m, line 4\u001B[39m\n\u001B[32m      1\u001B[39m \u001B[38;5;28;01mfrom\u001B[39;00m\u001B[38;5;250m \u001B[39m\u001B[34;01msklearn\u001B[39;00m\u001B[34;01m.\u001B[39;00m\u001B[34;01mmetrics\u001B[39;00m\u001B[38;5;250m \u001B[39m\u001B[38;5;28;01mimport\u001B[39;00m classification_report, roc_auc_score\n\u001B[32m      3\u001B[39m y_true = y.cpu().numpy()\n\u001B[32m----> \u001B[39m\u001B[32m4\u001B[39m y_pred_probs = \u001B[43mtorch\u001B[49m\u001B[43m.\u001B[49m\u001B[43msigmoid\u001B[49m\u001B[43m(\u001B[49m\u001B[43my_logits\u001B[49m\u001B[43m)\u001B[49m\u001B[43m.\u001B[49m\u001B[43mcpu\u001B[49m\u001B[43m(\u001B[49m\u001B[43m)\u001B[49m\u001B[43m.\u001B[49m\u001B[43mnumpy\u001B[49m\u001B[43m(\u001B[49m\u001B[43m)\u001B[49m\n\u001B[32m      5\u001B[39m y_pred = (y_pred_probs > \u001B[32m0.5\u001B[39m).astype(\u001B[38;5;28mint\u001B[39m)\n\u001B[32m      7\u001B[39m \u001B[38;5;28mprint\u001B[39m(classification_report(y_true, y_pred))\n",
      "\u001B[31mRuntimeError\u001B[39m: Can't call numpy() on Tensor that requires grad. Use tensor.detach().numpy() instead."
     ]
    }
   ],
   "execution_count": 50
  },
  {
   "metadata": {
    "ExecuteTime": {
     "end_time": "2025-08-31T09:35:17.464762Z",
     "start_time": "2025-08-31T09:35:17.296967Z"
    }
   },
   "cell_type": "code",
   "source": [
    "import matplotlib.pyplot as plt\n",
    "\n",
    "plt.figure(figsize = (10,10))\n",
    "plt.plot(batch_train_losses, label = 'Training loss', color = 'blue')\n",
    "plt.plot(batch_test_losses, label = 'Test loss', color = 'red')\n",
    "plt.xlabel('Epochs')\n",
    "plt.ylabel('Loss')\n",
    "plt.title('Loss curve')\n",
    "plt.legend()\n",
    "plt.show()"
   ],
   "id": "d540323dad7c85bf",
   "outputs": [
    {
     "data": {
      "text/plain": [
       "<Figure size 1000x1000 with 1 Axes>"
      ],
      "image/png": "[encoded data removed]"
     },
     "metadata": {},
     "output_type": "display_data"
    }
   ],
   "execution_count": 54
  },
  {
   "metadata": {},
   "cell_type": "code",
   "outputs": [],
   "execution_count": null,
   "source": "",
   "id": "216ec22083a0f6f0"
  }
 ],
 "metadata": {
  "kernelspec": {
   "display_name": "Python 3",
   "language": "python",
   "name": "python3"
  },
  "language_info": {
   "codemirror_mode": {
    "name": "ipython",
    "version": 2
   },
   "file_extension": ".py",
   "mimetype": "text/x-python",
   "name": "python",
   "nbconvert_exporter": "python",
   "pygments_lexer": "ipython2",
   "version": "2.7.6"
  }
 },
 "nbformat": 4,
 "nbformat_minor": 5
}
